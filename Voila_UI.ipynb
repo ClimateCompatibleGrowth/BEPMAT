{
 "cells": [
  {
   "cell_type": "markdown",
   "id": "336254f7",
   "metadata": {},
   "source": [
    "### This notebook is created for users to be able to use the tool easily without going through the backend code"
   ]
  },
  {
   "cell_type": "markdown",
   "id": "ca7e2ba8",
   "metadata": {},
   "source": [
    "#### Currently the run-times might be high since everything is being computed on the spot but we are working towards reducing these drastically and this will be updated soon . \n",
    "####  We have also made the back-end code available and users are free to fork the repo and make desired changes in the code for their own purposes"
   ]
  },
  {
   "cell_type": "code",
   "execution_count": 1,
   "id": "56f9fc95",
   "metadata": {},
   "outputs": [],
   "source": [
    "import pandas as pd\n",
    "import matplotlib.pyplot as plt\n",
    "import xarray as xr\n",
    "import plotly.graph_objects as go\n",
    "import ipywidgets as widgets\n",
    "from IPython.display import display , HTML , clear_output\n",
    "\n",
    "\n",
    "from Functions import shapefile_generator\n",
    "from Functions import graph_plotter_cropland \n",
    "from Functions import graph_plotter_marginal\n",
    "from Functions import graph_plotter_all"
   ]
  },
  {
   "cell_type": "code",
   "execution_count": 2,
   "id": "36fb84e2",
   "metadata": {},
   "outputs": [],
   "source": [
    "import re\n",
    "\n",
    "# Function to sanitize the key for NetCDF variable names\n",
    "def sanitize_key(key):\n",
    "    # Replace any non-alphanumeric characters with underscores\n",
    "    key = re.sub(r'[^a-zA-Z0-9_]', '_', key)\n",
    "    return key"
   ]
  },
  {
   "cell_type": "markdown",
   "id": "fc183dba",
   "metadata": {},
   "source": [
    "### Select Geography (Country and Province)"
   ]
  },
  {
   "cell_type": "code",
   "execution_count": 3,
   "id": "fe6d486c",
   "metadata": {},
   "outputs": [
    {
     "data": {
      "application/vnd.jupyter.widget-view+json": {
       "model_id": "1407d468dd8648f9a02aac02e0d3c904",
       "version_major": 2,
       "version_minor": 0
      },
      "text/plain": [
       "HBox(children=(Dropdown(description='Country:', options=('Afghanistan', 'Akrotiri and Dhekelia', 'Aksai Chin',…"
      ]
     },
     "metadata": {},
     "output_type": "display_data"
    }
   ],
   "source": [
    "# Load data\n",
    "geography_df = pd.read_csv('Countries&Provinces.csv')\n",
    "\n",
    "# Get unique countries and provinces\n",
    "countries = geography_df['NAME_0'].unique()\n",
    "provinces = geography_df['NAME_1'].unique()\n",
    "\n",
    "# Create dropdown widgets\n",
    "country_dropdown = widgets.Dropdown(options=countries, description='Country:')\n",
    "province_dropdown = widgets.Dropdown(description='Province:')\n",
    "confirm_button = widgets.Button(description='Confirm Selection')\n",
    "\n",
    "# Global variables to store selected values\n",
    "selected_country = countries[0]\n",
    "selected_province = provinces[0]\n",
    "geography = None  # Initialize geography as None\n",
    "\n",
    "def update_provinces(change):\n",
    "    global selected_country\n",
    "    selected_country = change.new\n",
    "    filtered_provinces = geography_df[geography_df['NAME_0'] == selected_country]['NAME_1'].unique()\n",
    "\n",
    "    # Add an empty option to reselect or select a new province\n",
    "    province_dropdown.options = [None] + filtered_provinces.tolist()\n",
    "\n",
    "    # Set the value to the first province in the list, or 'Select Province' if the list is empty\n",
    "    province_dropdown.value = filtered_provinces[0] if filtered_provinces.any() else 'Select Province'\n",
    "\n",
    "# Attach the update_provinces function to the country dropdown's 'value' trait\n",
    "country_dropdown.observe(update_provinces, names='value')\n",
    "\n",
    "# Function to display selected values\n",
    "def on_confirm_button_click(button):\n",
    "    global selected_province, geography\n",
    "    clear_output(wait=True)  # Clear the output area before displaying new values\n",
    "\n",
    "    country_value = f\"<b>Selected Country:</b> {selected_country}\"\n",
    "\n",
    "    if province_dropdown.value and province_dropdown.value != 'Select Province':\n",
    "        selected_province = province_dropdown.value\n",
    "        province_value = f\"<b>Selected Province:</b> {selected_province}\"\n",
    "        \n",
    "        # Run the shapefile_generator code and assign the result to the global variable\n",
    "        geography = shapefile_generator(selected_country, selected_province)\n",
    "        \n",
    "        # Additional code if needed\n",
    "        \n",
    "        # Display a message to indicate success\n",
    "        print(\"Geography selected successfully!\")\n",
    "    else:\n",
    "        selected_province = None\n",
    "        province_value = \"<b>Selected Province:</b> None\"\n",
    "\n",
    "    display(HTML(f\"{country_value}<br>{province_value}\"))\n",
    "\n",
    "# Attach the on_confirm_button_click function to the button's 'on_click' event\n",
    "confirm_button.on_click(on_confirm_button_click)\n",
    "\n",
    "# Style dropdown options with HTML formatting\n",
    "country_dropdown.style.description_width = 'initial'\n",
    "country_dropdown.style.description_color = 'black'\n",
    "country_dropdown.style.font_weight = 'bold'\n",
    "province_dropdown.style.description_width = 'initial'\n",
    "province_dropdown.style.description_color = 'black'\n",
    "province_dropdown.style.font_weight = 'bold'\n",
    "\n",
    "# Display the widgets\n",
    "display(widgets.HBox([country_dropdown, province_dropdown, confirm_button]))"
   ]
  },
  {
   "cell_type": "markdown",
   "id": "8c30416f",
   "metadata": {},
   "source": [
    "### Biomass Energy Potential from Cropland (Past and Future)"
   ]
  },
  {
   "cell_type": "code",
   "execution_count": 4,
   "id": "ad0b62cf",
   "metadata": {},
   "outputs": [
    {
     "data": {
      "application/vnd.jupyter.widget-view+json": {
       "model_id": "ce6c70ba48704ecab4e04532bb11059f",
       "version_major": 2,
       "version_minor": 0
      },
      "text/plain": [
       "HBox(children=(Dropdown(description='Climate Model:', options=('GFDL-ESM2M', 'HadGEM2-ES', 'NorESM1-M', 'MIROC…"
      ]
     },
     "metadata": {},
     "output_type": "display_data"
    }
   ],
   "source": [
    "# Climate models options\n",
    "climate_models = ['GFDL-ESM2M', 'HadGEM2-ES', 'NorESM1-M', 'MIROC-ESM-CHEM', 'IPSL-CM5A-LR']\n",
    "\n",
    "# Water supply future options\n",
    "water_supply_future = ['Available water content of 200 mm/m (under irrigation conditions)',\n",
    "                       'Available water content of 200 mm/m (under rain-fed conditions)']\n",
    "\n",
    "# Input level options\n",
    "input_levels = ['High']\n",
    "\n",
    "# Create separate dropdown widgets for climate models, water supply future, and input level\n",
    "climate_model_dropdown = widgets.Dropdown(options=climate_models, description='Climate Model:')\n",
    "water_supply_dropdown = widgets.Dropdown(options=water_supply_future, description='Water Supply Future:')\n",
    "input_level_dropdown = widgets.Dropdown(options=input_levels, description='Input Level:')\n",
    "\n",
    "# Global variables to store selected values for climate models, water supply, and input level\n",
    "selected_climate_model = climate_models[0]\n",
    "selected_water_supply = water_supply_future[0]\n",
    "selected_input_level = input_levels[0]\n",
    "\n",
    "# Function to update selected climate model\n",
    "def update_climate_model(change):\n",
    "    global selected_climate_model\n",
    "    selected_climate_model = change.new\n",
    "\n",
    "# Function to update selected water supply future\n",
    "def update_water_supply(change):\n",
    "    global selected_water_supply\n",
    "    selected_water_supply = change.new\n",
    "\n",
    "# Function to update selected input level\n",
    "def update_input_level(change):\n",
    "    global selected_input_level\n",
    "    selected_input_level = change.new\n",
    "\n",
    "# Function to display selected climate model, water supply, and input level values\n",
    "def on_confirm_button_click_models(button):\n",
    "    clear_output(wait=True)  # Clear the output area before displaying new values\n",
    "\n",
    "    climate_model_value = f\"<b>Selected Climate Model:</b> {selected_climate_model}\"\n",
    "    water_supply_value = f\"<b>Selected Water Supply Future:</b> {selected_water_supply}\"\n",
    "    input_level_value = f\"<b>Selected Input Level:</b> {selected_input_level}\"\n",
    "\n",
    "    display(HTML(f\"{climate_model_value}<br>{water_supply_value}<br>{input_level_value}\"))\n",
    "\n",
    "# Create a button for climate models, water supply future, and input level confirmation\n",
    "confirm_button_models = widgets.Button(description='Confirm Selection')\n",
    "\n",
    "# Attach the update functions to the dropdowns' 'value' trait\n",
    "climate_model_dropdown.observe(update_climate_model, names='value')\n",
    "water_supply_dropdown.observe(update_water_supply, names='value')\n",
    "input_level_dropdown.observe(update_input_level, names='value')\n",
    "\n",
    "# Attach the on_confirm_button_click_models function to the button's 'on_click' event\n",
    "confirm_button_models.on_click(on_confirm_button_click_models)\n",
    "\n",
    "# Style dropdown options with HTML formatting for climate models, water supply future, and input level\n",
    "climate_model_dropdown.style.description_width = 'initial'\n",
    "climate_model_dropdown.style.description_color = 'black'\n",
    "climate_model_dropdown.style.font_weight = 'bold'\n",
    "water_supply_dropdown.style.description_width = 'initial'\n",
    "water_supply_dropdown.style.description_color = 'black'\n",
    "water_supply_dropdown.style.font_weight = 'bold'\n",
    "input_level_dropdown.style.description_width = 'initial'\n",
    "input_level_dropdown.style.description_color = 'black'\n",
    "input_level_dropdown.style.font_weight = 'bold'\n",
    "\n",
    "# Display the widgets for climate models, water supply future, and input level\n",
    "display(widgets.HBox([climate_model_dropdown, water_supply_dropdown, input_level_dropdown, confirm_button_models]))"
   ]
  },
  {
   "cell_type": "code",
   "execution_count": 5,
   "id": "571e72dd",
   "metadata": {},
   "outputs": [
    {
     "data": {
      "application/vnd.jupyter.widget-view+json": {
       "model_id": "0f73003057724370a837a0ae10b3a61f",
       "version_major": 2,
       "version_minor": 0
      },
      "text/plain": [
       "Button(description='Run', style=ButtonStyle())"
      ]
     },
     "metadata": {},
     "output_type": "display_data"
    }
   ],
   "source": [
    "# Create a button to run the code\n",
    "run_button = widgets.Button(description='Run')\n",
    "\n",
    "# Function to run the code on button click\n",
    "def on_run_button_click(button):\n",
    "    clear_output(wait=True)  # Clear the output area before running the code\n",
    "    global fig, xarrays\n",
    "    fig, xarrays = graph_plotter_cropland(shapefile=geography, climate_model=selected_climate_model,\n",
    "                                          water_supply_future=selected_water_supply, input_level=selected_input_level)\n",
    "    \n",
    "    # Display the figure\n",
    "    display(fig)\n",
    "    \n",
    "    # Display the \"Download NetCDF4\" button after the graph is loaded\n",
    "    display(download_nc_button)\n",
    "\n",
    "# Attach the on_run_button_click function to the button's 'on_click' event\n",
    "run_button.on_click(on_run_button_click)\n",
    "\n",
    "# Create a button to download xarrays as NetCDF4\n",
    "download_nc_button = widgets.Button(description='Download NetCDF4')\n",
    "\n",
    "# Function to download xarrays as NetCDF4 on button click\n",
    "def on_download_nc_button_click(button):\n",
    "    if xarrays:\n",
    "        # Create a list to store tuples of (key, DataArray)\n",
    "        data_arrays = []\n",
    "\n",
    "        # Iterate over the xarrays dictionary and append each tuple to the list\n",
    "        for key, value in xarrays.items():\n",
    "            data_arrays.append((key, value))\n",
    "\n",
    "        try:\n",
    "            # Convert each value to a DataArray before creating the Dataset\n",
    "            data_arrays = [(sanitize_key(str(key)), value.to_array()) for key, value in data_arrays]\n",
    "\n",
    "            # Create a Dataset from the list of tuples\n",
    "            dataset = xr.Dataset({key: value for key, value in data_arrays})\n",
    "\n",
    "            # Save the dataset as a NetCDF4 file\n",
    "            dataset.to_netcdf('output_data.nc')\n",
    "            print('NetCDF4 file downloaded successfully.')\n",
    "        except Exception as e:\n",
    "            print(f'Error creating dataset: {e}')\n",
    "    else:\n",
    "        print('No xarrays available. Please run the code first.')\n",
    "        \n",
    "# Attach the on_download_nc_button_click function to the button's 'on_click' event\n",
    "download_nc_button.on_click(on_download_nc_button_click)\n",
    "\n",
    "# Display the \"Run\" button initially\n",
    "display(run_button)"
   ]
  }
 ],
 "metadata": {
  "kernelspec": {
   "display_name": "geo_env",
   "language": "python",
   "name": "geo_env"
  },
  "language_info": {
   "codemirror_mode": {
    "name": "ipython",
    "version": 3
   },
   "file_extension": ".py",
   "mimetype": "text/x-python",
   "name": "python",
   "nbconvert_exporter": "python",
   "pygments_lexer": "ipython3",
   "version": "3.11.4"
  }
 },
 "nbformat": 4,
 "nbformat_minor": 5
}
