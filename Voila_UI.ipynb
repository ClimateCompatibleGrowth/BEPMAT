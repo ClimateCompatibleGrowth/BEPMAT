{
 "cells": [
  {
   "cell_type": "markdown",
   "id": "336254f7",
   "metadata": {},
   "source": [
    "### This is the "
   ]
  },
  {
   "cell_type": "code",
   "execution_count": 1,
   "id": "56f9fc95",
   "metadata": {},
   "outputs": [],
   "source": [
    "import pandas as pd\n",
    "import matplotlib.pyplot as plt\n",
    "import xarray as xr\n",
    "import plotly.graph_objects as go\n",
    "import ipywidgets as widgets\n",
    "from IPython.display import display , HTML , clear_output\n",
    "\n",
    "\n",
    "from Functions import shapefile_generator\n",
    "from Functions import graph_plotter_cropland \n",
    "from Functions import graph_plotter_marginal\n",
    "from Functions import graph_plotter_all"
   ]
  },
  {
   "cell_type": "code",
   "execution_count": 18,
   "id": "36fb84e2",
   "metadata": {},
   "outputs": [],
   "source": [
    "import re\n",
    "\n",
    "# Function to sanitize the key for NetCDF variable names\n",
    "def sanitize_key(key):\n",
    "    # Replace any non-alphanumeric characters with underscores\n",
    "    key = re.sub(r'[^a-zA-Z0-9_]', '_', key)\n",
    "    return key"
   ]
  },
  {
   "cell_type": "markdown",
   "id": "fc183dba",
   "metadata": {},
   "source": [
    "### Select Geography (Country and Province)"
   ]
  },
  {
   "cell_type": "code",
   "execution_count": 13,
   "id": "fe6d486c",
   "metadata": {},
   "outputs": [
    {
     "name": "stdout",
     "output_type": "stream",
     "text": [
      "Geography selected successfully!\n"
     ]
    },
    {
     "data": {
      "text/html": [
       "<b>Selected Country:</b> India<br><b>Selected Province:</b> Goa"
      ],
      "text/plain": [
       "<IPython.core.display.HTML object>"
      ]
     },
     "metadata": {},
     "output_type": "display_data"
    }
   ],
   "source": [
    "# Load data\n",
    "geography_df = pd.read_csv('Countries&Provinces.csv')\n",
    "\n",
    "# Get unique countries and provinces\n",
    "countries = geography_df['NAME_0'].unique()\n",
    "provinces = geography_df['NAME_1'].unique()\n",
    "\n",
    "# Create dropdown widgets\n",
    "country_dropdown = widgets.Dropdown(options=countries, description='Country:')\n",
    "province_dropdown = widgets.Dropdown(description='Province:')\n",
    "confirm_button = widgets.Button(description='Confirm Selection')\n",
    "\n",
    "# Global variables to store selected values\n",
    "selected_country = countries[0]\n",
    "selected_province = provinces[0]\n",
    "geography = None  # Initialize geography as None\n",
    "\n",
    "def update_provinces(change):\n",
    "    global selected_country\n",
    "    selected_country = change.new\n",
    "    filtered_provinces = geography_df[geography_df['NAME_0'] == selected_country]['NAME_1'].unique()\n",
    "\n",
    "    # Add an empty option to reselect or select a new province\n",
    "    province_dropdown.options = [None] + filtered_provinces.tolist()\n",
    "\n",
    "    # Set the value to the first province in the list, or 'Select Province' if the list is empty\n",
    "    province_dropdown.value = filtered_provinces[0] if filtered_provinces.any() else 'Select Province'\n",
    "\n",
    "# Attach the update_provinces function to the country dropdown's 'value' trait\n",
    "country_dropdown.observe(update_provinces, names='value')\n",
    "\n",
    "# Function to display selected values\n",
    "def on_confirm_button_click(button):\n",
    "    global selected_province, geography\n",
    "    clear_output(wait=True)  # Clear the output area before displaying new values\n",
    "\n",
    "    country_value = f\"<b>Selected Country:</b> {selected_country}\"\n",
    "\n",
    "    if province_dropdown.value and province_dropdown.value != 'Select Province':\n",
    "        selected_province = province_dropdown.value\n",
    "        province_value = f\"<b>Selected Province:</b> {selected_province}\"\n",
    "        \n",
    "        # Run the shapefile_generator code and assign the result to the global variable\n",
    "        geography = shapefile_generator(selected_country, selected_province)\n",
    "        \n",
    "        # Additional code if needed\n",
    "        \n",
    "        # Display a message to indicate success\n",
    "        print(\"Geography selected successfully!\")\n",
    "    else:\n",
    "        selected_province = None\n",
    "        province_value = \"<b>Selected Province:</b> None\"\n",
    "\n",
    "    display(HTML(f\"{country_value}<br>{province_value}\"))\n",
    "\n",
    "# Attach the on_confirm_button_click function to the button's 'on_click' event\n",
    "confirm_button.on_click(on_confirm_button_click)\n",
    "\n",
    "# Style dropdown options with HTML formatting\n",
    "country_dropdown.style.description_width = 'initial'\n",
    "country_dropdown.style.description_color = 'black'\n",
    "country_dropdown.style.font_weight = 'bold'\n",
    "province_dropdown.style.description_width = 'initial'\n",
    "province_dropdown.style.description_color = 'black'\n",
    "province_dropdown.style.font_weight = 'bold'\n",
    "\n",
    "# Display the widgets\n",
    "display(widgets.HBox([country_dropdown, province_dropdown, confirm_button]))"
   ]
  },
  {
   "cell_type": "markdown",
   "id": "8c30416f",
   "metadata": {},
   "source": [
    "### Biomass Energy Potential from Cropland (Past and Future)"
   ]
  },
  {
   "cell_type": "code",
   "execution_count": 6,
   "id": "ad0b62cf",
   "metadata": {},
   "outputs": [
    {
     "data": {
      "text/html": [
       "<b>Selected Climate Model:</b> GFDL-ESM2M<br><b>Selected Water Supply Future:</b> Available water content of 200 mm/m (under rain-fed conditions)<br><b>Selected Input Level:</b> High"
      ],
      "text/plain": [
       "<IPython.core.display.HTML object>"
      ]
     },
     "metadata": {},
     "output_type": "display_data"
    }
   ],
   "source": [
    "# Climate models options\n",
    "climate_models = ['GFDL-ESM2M', 'HadGEM2-ES', 'NorESM1-M', 'MIROC-ESM-CHEM', 'IPSL-CM5A-LR']\n",
    "\n",
    "# Water supply future options\n",
    "water_supply_future = ['Available water content of 200 mm/m (under irrigation conditions)',\n",
    "                       'Available water content of 200 mm/m (under rain-fed conditions)']\n",
    "\n",
    "# Input level options\n",
    "input_levels = ['High']\n",
    "\n",
    "# Create separate dropdown widgets for climate models, water supply future, and input level\n",
    "climate_model_dropdown = widgets.Dropdown(options=climate_models, description='Climate Model:')\n",
    "water_supply_dropdown = widgets.Dropdown(options=water_supply_future, description='Water Supply Future:')\n",
    "input_level_dropdown = widgets.Dropdown(options=input_levels, description='Input Level:')\n",
    "\n",
    "# Global variables to store selected values for climate models, water supply, and input level\n",
    "selected_climate_model = climate_models[0]\n",
    "selected_water_supply = water_supply_future[0]\n",
    "selected_input_level = input_levels[0]\n",
    "\n",
    "# Function to update selected climate model\n",
    "def update_climate_model(change):\n",
    "    global selected_climate_model\n",
    "    selected_climate_model = change.new\n",
    "\n",
    "# Function to update selected water supply future\n",
    "def update_water_supply(change):\n",
    "    global selected_water_supply\n",
    "    selected_water_supply = change.new\n",
    "\n",
    "# Function to update selected input level\n",
    "def update_input_level(change):\n",
    "    global selected_input_level\n",
    "    selected_input_level = change.new\n",
    "\n",
    "# Function to display selected climate model, water supply, and input level values\n",
    "def on_confirm_button_click_models(button):\n",
    "    clear_output(wait=True)  # Clear the output area before displaying new values\n",
    "\n",
    "    climate_model_value = f\"<b>Selected Climate Model:</b> {selected_climate_model}\"\n",
    "    water_supply_value = f\"<b>Selected Water Supply Future:</b> {selected_water_supply}\"\n",
    "    input_level_value = f\"<b>Selected Input Level:</b> {selected_input_level}\"\n",
    "\n",
    "    display(HTML(f\"{climate_model_value}<br>{water_supply_value}<br>{input_level_value}\"))\n",
    "\n",
    "# Create a button for climate models, water supply future, and input level confirmation\n",
    "confirm_button_models = widgets.Button(description='Confirm Selection')\n",
    "\n",
    "# Attach the update functions to the dropdowns' 'value' trait\n",
    "climate_model_dropdown.observe(update_climate_model, names='value')\n",
    "water_supply_dropdown.observe(update_water_supply, names='value')\n",
    "input_level_dropdown.observe(update_input_level, names='value')\n",
    "\n",
    "# Attach the on_confirm_button_click_models function to the button's 'on_click' event\n",
    "confirm_button_models.on_click(on_confirm_button_click_models)\n",
    "\n",
    "# Style dropdown options with HTML formatting for climate models, water supply future, and input level\n",
    "climate_model_dropdown.style.description_width = 'initial'\n",
    "climate_model_dropdown.style.description_color = 'black'\n",
    "climate_model_dropdown.style.font_weight = 'bold'\n",
    "water_supply_dropdown.style.description_width = 'initial'\n",
    "water_supply_dropdown.style.description_color = 'black'\n",
    "water_supply_dropdown.style.font_weight = 'bold'\n",
    "input_level_dropdown.style.description_width = 'initial'\n",
    "input_level_dropdown.style.description_color = 'black'\n",
    "input_level_dropdown.style.font_weight = 'bold'\n",
    "\n",
    "# Display the widgets for climate models, water supply future, and input level\n",
    "display(widgets.HBox([climate_model_dropdown, water_supply_dropdown, input_level_dropdown, confirm_button_models]))"
   ]
  },
  {
   "cell_type": "code",
   "execution_count": 19,
   "id": "571e72dd",
   "metadata": {},
   "outputs": [
    {
     "data": {
      "application/vnd.plotly.v1+json": {
       "config": {
        "plotlyServerURL": "https://plot.ly"
       },
       "data": [
        {
         "marker": {
          "color": "#000000"
         },
         "name": "2000",
         "type": "bar",
         "x": [
          "2000"
         ],
         "y": [
          6743.578018148697
         ]
        },
        {
         "marker": {
          "color": "#808080"
         },
         "name": "2010",
         "type": "bar",
         "x": [
          "2010"
         ],
         "y": [
          6938.744880642841
         ]
        },
        {
         "marker": {
          "color": "#4285F4"
         },
         "name": "RCP2.6",
         "type": "bar",
         "x": [
          "2011-2040",
          "2041-2070",
          "2071-2100"
         ],
         "y": [
          9305.918042857551,
          9320.71196979997,
          9262.604119573389
         ]
        },
        {
         "marker": {
          "color": "#DB4437"
         },
         "name": "RCP4.5",
         "type": "bar",
         "x": [
          "2011-2040",
          "2041-2070",
          "2071-2100"
         ],
         "y": [
          9164.74829287628,
          9026.83199919134,
          8812.028341480947
         ]
        },
        {
         "marker": {
          "color": "#F4B400"
         },
         "name": "RCP6.0",
         "type": "bar",
         "x": [
          "2011-2040",
          "2041-2070",
          "2071-2100"
         ],
         "y": [
          9310.685152740467,
          9091.47379016946,
          8545.657545926915
         ]
        },
        {
         "marker": {
          "color": "#0F9D58"
         },
         "name": "RCP8.5",
         "type": "bar",
         "x": [
          "2011-2040",
          "2041-2070",
          "2071-2100"
         ],
         "y": [
          9236.275536412302,
          8602.77352984138,
          7660.387193081839
         ]
        }
       ],
       "layout": {
        "barmode": "group",
        "template": {
         "data": {
          "bar": [
           {
            "error_x": {
             "color": "#2a3f5f"
            },
            "error_y": {
             "color": "#2a3f5f"
            },
            "marker": {
             "line": {
              "color": "#E5ECF6",
              "width": 0.5
             },
             "pattern": {
              "fillmode": "overlay",
              "size": 10,
              "solidity": 0.2
             }
            },
            "type": "bar"
           }
          ],
          "barpolar": [
           {
            "marker": {
             "line": {
              "color": "#E5ECF6",
              "width": 0.5
             },
             "pattern": {
              "fillmode": "overlay",
              "size": 10,
              "solidity": 0.2
             }
            },
            "type": "barpolar"
           }
          ],
          "carpet": [
           {
            "aaxis": {
             "endlinecolor": "#2a3f5f",
             "gridcolor": "white",
             "linecolor": "white",
             "minorgridcolor": "white",
             "startlinecolor": "#2a3f5f"
            },
            "baxis": {
             "endlinecolor": "#2a3f5f",
             "gridcolor": "white",
             "linecolor": "white",
             "minorgridcolor": "white",
             "startlinecolor": "#2a3f5f"
            },
            "type": "carpet"
           }
          ],
          "choropleth": [
           {
            "colorbar": {
             "outlinewidth": 0,
             "ticks": ""
            },
            "type": "choropleth"
           }
          ],
          "contour": [
           {
            "colorbar": {
             "outlinewidth": 0,
             "ticks": ""
            },
            "colorscale": [
             [
              0,
              "#0d0887"
             ],
             [
              0.1111111111111111,
              "#46039f"
             ],
             [
              0.2222222222222222,
              "#7201a8"
             ],
             [
              0.3333333333333333,
              "#9c179e"
             ],
             [
              0.4444444444444444,
              "#bd3786"
             ],
             [
              0.5555555555555556,
              "#d8576b"
             ],
             [
              0.6666666666666666,
              "#ed7953"
             ],
             [
              0.7777777777777778,
              "#fb9f3a"
             ],
             [
              0.8888888888888888,
              "#fdca26"
             ],
             [
              1,
              "#f0f921"
             ]
            ],
            "type": "contour"
           }
          ],
          "contourcarpet": [
           {
            "colorbar": {
             "outlinewidth": 0,
             "ticks": ""
            },
            "type": "contourcarpet"
           }
          ],
          "heatmap": [
           {
            "colorbar": {
             "outlinewidth": 0,
             "ticks": ""
            },
            "colorscale": [
             [
              0,
              "#0d0887"
             ],
             [
              0.1111111111111111,
              "#46039f"
             ],
             [
              0.2222222222222222,
              "#7201a8"
             ],
             [
              0.3333333333333333,
              "#9c179e"
             ],
             [
              0.4444444444444444,
              "#bd3786"
             ],
             [
              0.5555555555555556,
              "#d8576b"
             ],
             [
              0.6666666666666666,
              "#ed7953"
             ],
             [
              0.7777777777777778,
              "#fb9f3a"
             ],
             [
              0.8888888888888888,
              "#fdca26"
             ],
             [
              1,
              "#f0f921"
             ]
            ],
            "type": "heatmap"
           }
          ],
          "heatmapgl": [
           {
            "colorbar": {
             "outlinewidth": 0,
             "ticks": ""
            },
            "colorscale": [
             [
              0,
              "#0d0887"
             ],
             [
              0.1111111111111111,
              "#46039f"
             ],
             [
              0.2222222222222222,
              "#7201a8"
             ],
             [
              0.3333333333333333,
              "#9c179e"
             ],
             [
              0.4444444444444444,
              "#bd3786"
             ],
             [
              0.5555555555555556,
              "#d8576b"
             ],
             [
              0.6666666666666666,
              "#ed7953"
             ],
             [
              0.7777777777777778,
              "#fb9f3a"
             ],
             [
              0.8888888888888888,
              "#fdca26"
             ],
             [
              1,
              "#f0f921"
             ]
            ],
            "type": "heatmapgl"
           }
          ],
          "histogram": [
           {
            "marker": {
             "pattern": {
              "fillmode": "overlay",
              "size": 10,
              "solidity": 0.2
             }
            },
            "type": "histogram"
           }
          ],
          "histogram2d": [
           {
            "colorbar": {
             "outlinewidth": 0,
             "ticks": ""
            },
            "colorscale": [
             [
              0,
              "#0d0887"
             ],
             [
              0.1111111111111111,
              "#46039f"
             ],
             [
              0.2222222222222222,
              "#7201a8"
             ],
             [
              0.3333333333333333,
              "#9c179e"
             ],
             [
              0.4444444444444444,
              "#bd3786"
             ],
             [
              0.5555555555555556,
              "#d8576b"
             ],
             [
              0.6666666666666666,
              "#ed7953"
             ],
             [
              0.7777777777777778,
              "#fb9f3a"
             ],
             [
              0.8888888888888888,
              "#fdca26"
             ],
             [
              1,
              "#f0f921"
             ]
            ],
            "type": "histogram2d"
           }
          ],
          "histogram2dcontour": [
           {
            "colorbar": {
             "outlinewidth": 0,
             "ticks": ""
            },
            "colorscale": [
             [
              0,
              "#0d0887"
             ],
             [
              0.1111111111111111,
              "#46039f"
             ],
             [
              0.2222222222222222,
              "#7201a8"
             ],
             [
              0.3333333333333333,
              "#9c179e"
             ],
             [
              0.4444444444444444,
              "#bd3786"
             ],
             [
              0.5555555555555556,
              "#d8576b"
             ],
             [
              0.6666666666666666,
              "#ed7953"
             ],
             [
              0.7777777777777778,
              "#fb9f3a"
             ],
             [
              0.8888888888888888,
              "#fdca26"
             ],
             [
              1,
              "#f0f921"
             ]
            ],
            "type": "histogram2dcontour"
           }
          ],
          "mesh3d": [
           {
            "colorbar": {
             "outlinewidth": 0,
             "ticks": ""
            },
            "type": "mesh3d"
           }
          ],
          "parcoords": [
           {
            "line": {
             "colorbar": {
              "outlinewidth": 0,
              "ticks": ""
             }
            },
            "type": "parcoords"
           }
          ],
          "pie": [
           {
            "automargin": true,
            "type": "pie"
           }
          ],
          "scatter": [
           {
            "fillpattern": {
             "fillmode": "overlay",
             "size": 10,
             "solidity": 0.2
            },
            "type": "scatter"
           }
          ],
          "scatter3d": [
           {
            "line": {
             "colorbar": {
              "outlinewidth": 0,
              "ticks": ""
             }
            },
            "marker": {
             "colorbar": {
              "outlinewidth": 0,
              "ticks": ""
             }
            },
            "type": "scatter3d"
           }
          ],
          "scattercarpet": [
           {
            "marker": {
             "colorbar": {
              "outlinewidth": 0,
              "ticks": ""
             }
            },
            "type": "scattercarpet"
           }
          ],
          "scattergeo": [
           {
            "marker": {
             "colorbar": {
              "outlinewidth": 0,
              "ticks": ""
             }
            },
            "type": "scattergeo"
           }
          ],
          "scattergl": [
           {
            "marker": {
             "colorbar": {
              "outlinewidth": 0,
              "ticks": ""
             }
            },
            "type": "scattergl"
           }
          ],
          "scattermapbox": [
           {
            "marker": {
             "colorbar": {
              "outlinewidth": 0,
              "ticks": ""
             }
            },
            "type": "scattermapbox"
           }
          ],
          "scatterpolar": [
           {
            "marker": {
             "colorbar": {
              "outlinewidth": 0,
              "ticks": ""
             }
            },
            "type": "scatterpolar"
           }
          ],
          "scatterpolargl": [
           {
            "marker": {
             "colorbar": {
              "outlinewidth": 0,
              "ticks": ""
             }
            },
            "type": "scatterpolargl"
           }
          ],
          "scatterternary": [
           {
            "marker": {
             "colorbar": {
              "outlinewidth": 0,
              "ticks": ""
             }
            },
            "type": "scatterternary"
           }
          ],
          "surface": [
           {
            "colorbar": {
             "outlinewidth": 0,
             "ticks": ""
            },
            "colorscale": [
             [
              0,
              "#0d0887"
             ],
             [
              0.1111111111111111,
              "#46039f"
             ],
             [
              0.2222222222222222,
              "#7201a8"
             ],
             [
              0.3333333333333333,
              "#9c179e"
             ],
             [
              0.4444444444444444,
              "#bd3786"
             ],
             [
              0.5555555555555556,
              "#d8576b"
             ],
             [
              0.6666666666666666,
              "#ed7953"
             ],
             [
              0.7777777777777778,
              "#fb9f3a"
             ],
             [
              0.8888888888888888,
              "#fdca26"
             ],
             [
              1,
              "#f0f921"
             ]
            ],
            "type": "surface"
           }
          ],
          "table": [
           {
            "cells": {
             "fill": {
              "color": "#EBF0F8"
             },
             "line": {
              "color": "white"
             }
            },
            "header": {
             "fill": {
              "color": "#C8D4E3"
             },
             "line": {
              "color": "white"
             }
            },
            "type": "table"
           }
          ]
         },
         "layout": {
          "annotationdefaults": {
           "arrowcolor": "#2a3f5f",
           "arrowhead": 0,
           "arrowwidth": 1
          },
          "autotypenumbers": "strict",
          "coloraxis": {
           "colorbar": {
            "outlinewidth": 0,
            "ticks": ""
           }
          },
          "colorscale": {
           "diverging": [
            [
             0,
             "#8e0152"
            ],
            [
             0.1,
             "#c51b7d"
            ],
            [
             0.2,
             "#de77ae"
            ],
            [
             0.3,
             "#f1b6da"
            ],
            [
             0.4,
             "#fde0ef"
            ],
            [
             0.5,
             "#f7f7f7"
            ],
            [
             0.6,
             "#e6f5d0"
            ],
            [
             0.7,
             "#b8e186"
            ],
            [
             0.8,
             "#7fbc41"
            ],
            [
             0.9,
             "#4d9221"
            ],
            [
             1,
             "#276419"
            ]
           ],
           "sequential": [
            [
             0,
             "#0d0887"
            ],
            [
             0.1111111111111111,
             "#46039f"
            ],
            [
             0.2222222222222222,
             "#7201a8"
            ],
            [
             0.3333333333333333,
             "#9c179e"
            ],
            [
             0.4444444444444444,
             "#bd3786"
            ],
            [
             0.5555555555555556,
             "#d8576b"
            ],
            [
             0.6666666666666666,
             "#ed7953"
            ],
            [
             0.7777777777777778,
             "#fb9f3a"
            ],
            [
             0.8888888888888888,
             "#fdca26"
            ],
            [
             1,
             "#f0f921"
            ]
           ],
           "sequentialminus": [
            [
             0,
             "#0d0887"
            ],
            [
             0.1111111111111111,
             "#46039f"
            ],
            [
             0.2222222222222222,
             "#7201a8"
            ],
            [
             0.3333333333333333,
             "#9c179e"
            ],
            [
             0.4444444444444444,
             "#bd3786"
            ],
            [
             0.5555555555555556,
             "#d8576b"
            ],
            [
             0.6666666666666666,
             "#ed7953"
            ],
            [
             0.7777777777777778,
             "#fb9f3a"
            ],
            [
             0.8888888888888888,
             "#fdca26"
            ],
            [
             1,
             "#f0f921"
            ]
           ]
          },
          "colorway": [
           "#636efa",
           "#EF553B",
           "#00cc96",
           "#ab63fa",
           "#FFA15A",
           "#19d3f3",
           "#FF6692",
           "#B6E880",
           "#FF97FF",
           "#FECB52"
          ],
          "font": {
           "color": "#2a3f5f"
          },
          "geo": {
           "bgcolor": "white",
           "lakecolor": "white",
           "landcolor": "#E5ECF6",
           "showlakes": true,
           "showland": true,
           "subunitcolor": "white"
          },
          "hoverlabel": {
           "align": "left"
          },
          "hovermode": "closest",
          "mapbox": {
           "style": "light"
          },
          "paper_bgcolor": "white",
          "plot_bgcolor": "#E5ECF6",
          "polar": {
           "angularaxis": {
            "gridcolor": "white",
            "linecolor": "white",
            "ticks": ""
           },
           "bgcolor": "#E5ECF6",
           "radialaxis": {
            "gridcolor": "white",
            "linecolor": "white",
            "ticks": ""
           }
          },
          "scene": {
           "xaxis": {
            "backgroundcolor": "#E5ECF6",
            "gridcolor": "white",
            "gridwidth": 2,
            "linecolor": "white",
            "showbackground": true,
            "ticks": "",
            "zerolinecolor": "white"
           },
           "yaxis": {
            "backgroundcolor": "#E5ECF6",
            "gridcolor": "white",
            "gridwidth": 2,
            "linecolor": "white",
            "showbackground": true,
            "ticks": "",
            "zerolinecolor": "white"
           },
           "zaxis": {
            "backgroundcolor": "#E5ECF6",
            "gridcolor": "white",
            "gridwidth": 2,
            "linecolor": "white",
            "showbackground": true,
            "ticks": "",
            "zerolinecolor": "white"
           }
          },
          "shapedefaults": {
           "line": {
            "color": "#2a3f5f"
           }
          },
          "ternary": {
           "aaxis": {
            "gridcolor": "white",
            "linecolor": "white",
            "ticks": ""
           },
           "baxis": {
            "gridcolor": "white",
            "linecolor": "white",
            "ticks": ""
           },
           "bgcolor": "#E5ECF6",
           "caxis": {
            "gridcolor": "white",
            "linecolor": "white",
            "ticks": ""
           }
          },
          "title": {
           "x": 0.05
          },
          "xaxis": {
           "automargin": true,
           "gridcolor": "white",
           "linecolor": "white",
           "ticks": "",
           "title": {
            "standoff": 15
           },
           "zerolinecolor": "white",
           "zerolinewidth": 2
          },
          "yaxis": {
           "automargin": true,
           "gridcolor": "white",
           "linecolor": "white",
           "ticks": "",
           "title": {
            "standoff": 15
           },
           "zerolinecolor": "white",
           "zerolinewidth": 2
          }
         }
        },
        "title": {
         "text": "Biomass Potential from different RCPs"
        },
        "xaxis": {
         "title": {
          "text": "Years"
         }
        },
        "yaxis": {
         "title": {
          "text": "Biomass Potential from Cropland Land"
         }
        }
       }
      },
      "text/html": [
       "<div>                            <div id=\"14058e7b-7a50-4b6d-8150-b002d94041b9\" class=\"plotly-graph-div\" style=\"height:525px; width:100%;\"></div>            <script type=\"text/javascript\">                require([\"plotly\"], function(Plotly) {                    window.PLOTLYENV=window.PLOTLYENV || {};                                    if (document.getElementById(\"14058e7b-7a50-4b6d-8150-b002d94041b9\")) {                    Plotly.newPlot(                        \"14058e7b-7a50-4b6d-8150-b002d94041b9\",                        [{\"marker\":{\"color\":\"#000000\"},\"name\":\"2000\",\"x\":[\"2000\"],\"y\":[6743.578018148697],\"type\":\"bar\"},{\"marker\":{\"color\":\"#808080\"},\"name\":\"2010\",\"x\":[\"2010\"],\"y\":[6938.744880642841],\"type\":\"bar\"},{\"marker\":{\"color\":\"#4285F4\"},\"name\":\"RCP2.6\",\"x\":[\"2011-2040\",\"2041-2070\",\"2071-2100\"],\"y\":[9305.918042857551,9320.71196979997,9262.604119573389],\"type\":\"bar\"},{\"marker\":{\"color\":\"#DB4437\"},\"name\":\"RCP4.5\",\"x\":[\"2011-2040\",\"2041-2070\",\"2071-2100\"],\"y\":[9164.74829287628,9026.83199919134,8812.028341480947],\"type\":\"bar\"},{\"marker\":{\"color\":\"#F4B400\"},\"name\":\"RCP6.0\",\"x\":[\"2011-2040\",\"2041-2070\",\"2071-2100\"],\"y\":[9310.685152740467,9091.47379016946,8545.657545926915],\"type\":\"bar\"},{\"marker\":{\"color\":\"#0F9D58\"},\"name\":\"RCP8.5\",\"x\":[\"2011-2040\",\"2041-2070\",\"2071-2100\"],\"y\":[9236.275536412302,8602.77352984138,7660.387193081839],\"type\":\"bar\"}],                        {\"template\":{\"data\":{\"histogram2dcontour\":[{\"type\":\"histogram2dcontour\",\"colorbar\":{\"outlinewidth\":0,\"ticks\":\"\"},\"colorscale\":[[0.0,\"#0d0887\"],[0.1111111111111111,\"#46039f\"],[0.2222222222222222,\"#7201a8\"],[0.3333333333333333,\"#9c179e\"],[0.4444444444444444,\"#bd3786\"],[0.5555555555555556,\"#d8576b\"],[0.6666666666666666,\"#ed7953\"],[0.7777777777777778,\"#fb9f3a\"],[0.8888888888888888,\"#fdca26\"],[1.0,\"#f0f921\"]]}],\"choropleth\":[{\"type\":\"choropleth\",\"colorbar\":{\"outlinewidth\":0,\"ticks\":\"\"}}],\"histogram2d\":[{\"type\":\"histogram2d\",\"colorbar\":{\"outlinewidth\":0,\"ticks\":\"\"},\"colorscale\":[[0.0,\"#0d0887\"],[0.1111111111111111,\"#46039f\"],[0.2222222222222222,\"#7201a8\"],[0.3333333333333333,\"#9c179e\"],[0.4444444444444444,\"#bd3786\"],[0.5555555555555556,\"#d8576b\"],[0.6666666666666666,\"#ed7953\"],[0.7777777777777778,\"#fb9f3a\"],[0.8888888888888888,\"#fdca26\"],[1.0,\"#f0f921\"]]}],\"heatmap\":[{\"type\":\"heatmap\",\"colorbar\":{\"outlinewidth\":0,\"ticks\":\"\"},\"colorscale\":[[0.0,\"#0d0887\"],[0.1111111111111111,\"#46039f\"],[0.2222222222222222,\"#7201a8\"],[0.3333333333333333,\"#9c179e\"],[0.4444444444444444,\"#bd3786\"],[0.5555555555555556,\"#d8576b\"],[0.6666666666666666,\"#ed7953\"],[0.7777777777777778,\"#fb9f3a\"],[0.8888888888888888,\"#fdca26\"],[1.0,\"#f0f921\"]]}],\"heatmapgl\":[{\"type\":\"heatmapgl\",\"colorbar\":{\"outlinewidth\":0,\"ticks\":\"\"},\"colorscale\":[[0.0,\"#0d0887\"],[0.1111111111111111,\"#46039f\"],[0.2222222222222222,\"#7201a8\"],[0.3333333333333333,\"#9c179e\"],[0.4444444444444444,\"#bd3786\"],[0.5555555555555556,\"#d8576b\"],[0.6666666666666666,\"#ed7953\"],[0.7777777777777778,\"#fb9f3a\"],[0.8888888888888888,\"#fdca26\"],[1.0,\"#f0f921\"]]}],\"contourcarpet\":[{\"type\":\"contourcarpet\",\"colorbar\":{\"outlinewidth\":0,\"ticks\":\"\"}}],\"contour\":[{\"type\":\"contour\",\"colorbar\":{\"outlinewidth\":0,\"ticks\":\"\"},\"colorscale\":[[0.0,\"#0d0887\"],[0.1111111111111111,\"#46039f\"],[0.2222222222222222,\"#7201a8\"],[0.3333333333333333,\"#9c179e\"],[0.4444444444444444,\"#bd3786\"],[0.5555555555555556,\"#d8576b\"],[0.6666666666666666,\"#ed7953\"],[0.7777777777777778,\"#fb9f3a\"],[0.8888888888888888,\"#fdca26\"],[1.0,\"#f0f921\"]]}],\"surface\":[{\"type\":\"surface\",\"colorbar\":{\"outlinewidth\":0,\"ticks\":\"\"},\"colorscale\":[[0.0,\"#0d0887\"],[0.1111111111111111,\"#46039f\"],[0.2222222222222222,\"#7201a8\"],[0.3333333333333333,\"#9c179e\"],[0.4444444444444444,\"#bd3786\"],[0.5555555555555556,\"#d8576b\"],[0.6666666666666666,\"#ed7953\"],[0.7777777777777778,\"#fb9f3a\"],[0.8888888888888888,\"#fdca26\"],[1.0,\"#f0f921\"]]}],\"mesh3d\":[{\"type\":\"mesh3d\",\"colorbar\":{\"outlinewidth\":0,\"ticks\":\"\"}}],\"scatter\":[{\"fillpattern\":{\"fillmode\":\"overlay\",\"size\":10,\"solidity\":0.2},\"type\":\"scatter\"}],\"parcoords\":[{\"type\":\"parcoords\",\"line\":{\"colorbar\":{\"outlinewidth\":0,\"ticks\":\"\"}}}],\"scatterpolargl\":[{\"type\":\"scatterpolargl\",\"marker\":{\"colorbar\":{\"outlinewidth\":0,\"ticks\":\"\"}}}],\"bar\":[{\"error_x\":{\"color\":\"#2a3f5f\"},\"error_y\":{\"color\":\"#2a3f5f\"},\"marker\":{\"line\":{\"color\":\"#E5ECF6\",\"width\":0.5},\"pattern\":{\"fillmode\":\"overlay\",\"size\":10,\"solidity\":0.2}},\"type\":\"bar\"}],\"scattergeo\":[{\"type\":\"scattergeo\",\"marker\":{\"colorbar\":{\"outlinewidth\":0,\"ticks\":\"\"}}}],\"scatterpolar\":[{\"type\":\"scatterpolar\",\"marker\":{\"colorbar\":{\"outlinewidth\":0,\"ticks\":\"\"}}}],\"histogram\":[{\"marker\":{\"pattern\":{\"fillmode\":\"overlay\",\"size\":10,\"solidity\":0.2}},\"type\":\"histogram\"}],\"scattergl\":[{\"type\":\"scattergl\",\"marker\":{\"colorbar\":{\"outlinewidth\":0,\"ticks\":\"\"}}}],\"scatter3d\":[{\"type\":\"scatter3d\",\"line\":{\"colorbar\":{\"outlinewidth\":0,\"ticks\":\"\"}},\"marker\":{\"colorbar\":{\"outlinewidth\":0,\"ticks\":\"\"}}}],\"scattermapbox\":[{\"type\":\"scattermapbox\",\"marker\":{\"colorbar\":{\"outlinewidth\":0,\"ticks\":\"\"}}}],\"scatterternary\":[{\"type\":\"scatterternary\",\"marker\":{\"colorbar\":{\"outlinewidth\":0,\"ticks\":\"\"}}}],\"scattercarpet\":[{\"type\":\"scattercarpet\",\"marker\":{\"colorbar\":{\"outlinewidth\":0,\"ticks\":\"\"}}}],\"carpet\":[{\"aaxis\":{\"endlinecolor\":\"#2a3f5f\",\"gridcolor\":\"white\",\"linecolor\":\"white\",\"minorgridcolor\":\"white\",\"startlinecolor\":\"#2a3f5f\"},\"baxis\":{\"endlinecolor\":\"#2a3f5f\",\"gridcolor\":\"white\",\"linecolor\":\"white\",\"minorgridcolor\":\"white\",\"startlinecolor\":\"#2a3f5f\"},\"type\":\"carpet\"}],\"table\":[{\"cells\":{\"fill\":{\"color\":\"#EBF0F8\"},\"line\":{\"color\":\"white\"}},\"header\":{\"fill\":{\"color\":\"#C8D4E3\"},\"line\":{\"color\":\"white\"}},\"type\":\"table\"}],\"barpolar\":[{\"marker\":{\"line\":{\"color\":\"#E5ECF6\",\"width\":0.5},\"pattern\":{\"fillmode\":\"overlay\",\"size\":10,\"solidity\":0.2}},\"type\":\"barpolar\"}],\"pie\":[{\"automargin\":true,\"type\":\"pie\"}]},\"layout\":{\"autotypenumbers\":\"strict\",\"colorway\":[\"#636efa\",\"#EF553B\",\"#00cc96\",\"#ab63fa\",\"#FFA15A\",\"#19d3f3\",\"#FF6692\",\"#B6E880\",\"#FF97FF\",\"#FECB52\"],\"font\":{\"color\":\"#2a3f5f\"},\"hovermode\":\"closest\",\"hoverlabel\":{\"align\":\"left\"},\"paper_bgcolor\":\"white\",\"plot_bgcolor\":\"#E5ECF6\",\"polar\":{\"bgcolor\":\"#E5ECF6\",\"angularaxis\":{\"gridcolor\":\"white\",\"linecolor\":\"white\",\"ticks\":\"\"},\"radialaxis\":{\"gridcolor\":\"white\",\"linecolor\":\"white\",\"ticks\":\"\"}},\"ternary\":{\"bgcolor\":\"#E5ECF6\",\"aaxis\":{\"gridcolor\":\"white\",\"linecolor\":\"white\",\"ticks\":\"\"},\"baxis\":{\"gridcolor\":\"white\",\"linecolor\":\"white\",\"ticks\":\"\"},\"caxis\":{\"gridcolor\":\"white\",\"linecolor\":\"white\",\"ticks\":\"\"}},\"coloraxis\":{\"colorbar\":{\"outlinewidth\":0,\"ticks\":\"\"}},\"colorscale\":{\"sequential\":[[0.0,\"#0d0887\"],[0.1111111111111111,\"#46039f\"],[0.2222222222222222,\"#7201a8\"],[0.3333333333333333,\"#9c179e\"],[0.4444444444444444,\"#bd3786\"],[0.5555555555555556,\"#d8576b\"],[0.6666666666666666,\"#ed7953\"],[0.7777777777777778,\"#fb9f3a\"],[0.8888888888888888,\"#fdca26\"],[1.0,\"#f0f921\"]],\"sequentialminus\":[[0.0,\"#0d0887\"],[0.1111111111111111,\"#46039f\"],[0.2222222222222222,\"#7201a8\"],[0.3333333333333333,\"#9c179e\"],[0.4444444444444444,\"#bd3786\"],[0.5555555555555556,\"#d8576b\"],[0.6666666666666666,\"#ed7953\"],[0.7777777777777778,\"#fb9f3a\"],[0.8888888888888888,\"#fdca26\"],[1.0,\"#f0f921\"]],\"diverging\":[[0,\"#8e0152\"],[0.1,\"#c51b7d\"],[0.2,\"#de77ae\"],[0.3,\"#f1b6da\"],[0.4,\"#fde0ef\"],[0.5,\"#f7f7f7\"],[0.6,\"#e6f5d0\"],[0.7,\"#b8e186\"],[0.8,\"#7fbc41\"],[0.9,\"#4d9221\"],[1,\"#276419\"]]},\"xaxis\":{\"gridcolor\":\"white\",\"linecolor\":\"white\",\"ticks\":\"\",\"title\":{\"standoff\":15},\"zerolinecolor\":\"white\",\"automargin\":true,\"zerolinewidth\":2},\"yaxis\":{\"gridcolor\":\"white\",\"linecolor\":\"white\",\"ticks\":\"\",\"title\":{\"standoff\":15},\"zerolinecolor\":\"white\",\"automargin\":true,\"zerolinewidth\":2},\"scene\":{\"xaxis\":{\"backgroundcolor\":\"#E5ECF6\",\"gridcolor\":\"white\",\"linecolor\":\"white\",\"showbackground\":true,\"ticks\":\"\",\"zerolinecolor\":\"white\",\"gridwidth\":2},\"yaxis\":{\"backgroundcolor\":\"#E5ECF6\",\"gridcolor\":\"white\",\"linecolor\":\"white\",\"showbackground\":true,\"ticks\":\"\",\"zerolinecolor\":\"white\",\"gridwidth\":2},\"zaxis\":{\"backgroundcolor\":\"#E5ECF6\",\"gridcolor\":\"white\",\"linecolor\":\"white\",\"showbackground\":true,\"ticks\":\"\",\"zerolinecolor\":\"white\",\"gridwidth\":2}},\"shapedefaults\":{\"line\":{\"color\":\"#2a3f5f\"}},\"annotationdefaults\":{\"arrowcolor\":\"#2a3f5f\",\"arrowhead\":0,\"arrowwidth\":1},\"geo\":{\"bgcolor\":\"white\",\"landcolor\":\"#E5ECF6\",\"subunitcolor\":\"white\",\"showland\":true,\"showlakes\":true,\"lakecolor\":\"white\"},\"title\":{\"x\":0.05},\"mapbox\":{\"style\":\"light\"}}},\"barmode\":\"group\",\"xaxis\":{\"title\":{\"text\":\"Years\"}},\"yaxis\":{\"title\":{\"text\":\"Biomass Potential from Cropland Land\"}},\"title\":{\"text\":\"Biomass Potential from different RCPs\"}},                        {\"responsive\": true}                    ).then(function(){\n",
       "                            \n",
       "var gd = document.getElementById('14058e7b-7a50-4b6d-8150-b002d94041b9');\n",
       "var x = new MutationObserver(function (mutations, observer) {{\n",
       "        var display = window.getComputedStyle(gd).display;\n",
       "        if (!display || display === 'none') {{\n",
       "            console.log([gd, 'removed!']);\n",
       "            Plotly.purge(gd);\n",
       "            observer.disconnect();\n",
       "        }}\n",
       "}});\n",
       "\n",
       "// Listen for the removal of the full notebook cells\n",
       "var notebookContainer = gd.closest('#notebook-container');\n",
       "if (notebookContainer) {{\n",
       "    x.observe(notebookContainer, {childList: true});\n",
       "}}\n",
       "\n",
       "// Listen for the clearing of the current output cell\n",
       "var outputEl = gd.closest('.output');\n",
       "if (outputEl) {{\n",
       "    x.observe(outputEl, {childList: true});\n",
       "}}\n",
       "\n",
       "                        })                };                });            </script>        </div>"
      ]
     },
     "metadata": {},
     "output_type": "display_data"
    },
    {
     "data": {
      "application/vnd.jupyter.widget-view+json": {
       "model_id": "3843d2db096f467694b1029cffe1417f",
       "version_major": 2,
       "version_minor": 0
      },
      "text/plain": [
       "Button(description='Download NetCDF4', style=ButtonStyle())"
      ]
     },
     "metadata": {},
     "output_type": "display_data"
    },
    {
     "name": "stdout",
     "output_type": "stream",
     "text": [
      "NetCDF4 file downloaded successfully.\n"
     ]
    }
   ],
   "source": [
    "# Create a button to run the code\n",
    "run_button = widgets.Button(description='Run')\n",
    "\n",
    "# Function to run the code on button click\n",
    "def on_run_button_click(button):\n",
    "    clear_output(wait=True)  # Clear the output area before running the code\n",
    "    global fig, xarrays\n",
    "    fig, xarrays = graph_plotter_cropland(shapefile=geography, climate_model=selected_climate_model,\n",
    "                                          water_supply_future=selected_water_supply, input_level=selected_input_level)\n",
    "    \n",
    "    # Display the figure\n",
    "    display(fig)\n",
    "    \n",
    "    # Display the \"Download NetCDF4\" button after the graph is loaded\n",
    "    display(download_nc_button)\n",
    "\n",
    "# Attach the on_run_button_click function to the button's 'on_click' event\n",
    "run_button.on_click(on_run_button_click)\n",
    "\n",
    "# Create a button to download xarrays as NetCDF4\n",
    "download_nc_button = widgets.Button(description='Download NetCDF4')\n",
    "\n",
    "# Function to download xarrays as NetCDF4 on button click\n",
    "def on_download_nc_button_click(button):\n",
    "    if xarrays:\n",
    "        # Create a list to store tuples of (key, DataArray)\n",
    "        data_arrays = []\n",
    "\n",
    "        # Iterate over the xarrays dictionary and append each tuple to the list\n",
    "        for key, value in xarrays.items():\n",
    "            data_arrays.append((key, value))\n",
    "\n",
    "        try:\n",
    "            # Convert each value to a DataArray before creating the Dataset\n",
    "            data_arrays = [(sanitize_key(str(key)), value.to_array()) for key, value in data_arrays]\n",
    "\n",
    "            # Create a Dataset from the list of tuples\n",
    "            dataset = xr.Dataset({key: value for key, value in data_arrays})\n",
    "\n",
    "            # Save the dataset as a NetCDF4 file\n",
    "            dataset.to_netcdf('output_data.nc')\n",
    "            print('NetCDF4 file downloaded successfully.')\n",
    "        except Exception as e:\n",
    "            print(f'Error creating dataset: {e}')\n",
    "    else:\n",
    "        print('No xarrays available. Please run the code first.')\n",
    "        \n",
    "# Attach the on_download_nc_button_click function to the button's 'on_click' event\n",
    "download_nc_button.on_click(on_download_nc_button_click)\n",
    "\n",
    "# Display the \"Run\" button initially\n",
    "display(run_button)"
   ]
  },
  {
   "cell_type": "code",
   "execution_count": null,
   "id": "ecf8d53c",
   "metadata": {},
   "outputs": [],
   "source": []
  }
 ],
 "metadata": {
  "kernelspec": {
   "display_name": "geo_env",
   "language": "python",
   "name": "geo_env"
  },
  "language_info": {
   "codemirror_mode": {
    "name": "ipython",
    "version": 3
   },
   "file_extension": ".py",
   "mimetype": "text/x-python",
   "name": "python",
   "nbconvert_exporter": "python",
   "pygments_lexer": "ipython3",
   "version": "3.11.4"
  }
 },
 "nbformat": 4,
 "nbformat_minor": 5
}
