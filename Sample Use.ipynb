{
 "cells": [
  {
   "cell_type": "markdown",
   "id": "dc45d28f",
   "metadata": {},
   "source": [
    "### Sample use of the code"
   ]
  },
  {
   "cell_type": "markdown",
   "id": "6cb8c8b2",
   "metadata": {},
   "source": [
    "#### We will demonstrate the working of the tool and the results on a few countries from different continents and preferably different latitudes.   "
   ]
  },
  {
   "cell_type": "code",
   "execution_count": 3,
   "id": "bf07fd05",
   "metadata": {},
   "outputs": [],
   "source": [
    "# Importing the necessary libraries\n",
    "\n",
    "from Functions import shapefile_generator\n",
    "from Functions import graph_plotter_cropland\n",
    "from Functions import graph_plotter_marginal_new\n",
    "\n",
    "import xarray as xr\n",
    "import netCDF4 as nc"
   ]
  },
  {
   "cell_type": "markdown",
   "id": "9ad66734",
   "metadata": {},
   "source": [
    "## Iceland "
   ]
  },
  {
   "cell_type": "code",
   "execution_count": 4,
   "id": "514230b7",
   "metadata": {},
   "outputs": [],
   "source": [
    "iceland = shapefile_generator('Iceland')"
   ]
  },
  {
   "cell_type": "markdown",
   "id": "08e9583b",
   "metadata": {},
   "source": [
    "## Italy"
   ]
  },
  {
   "cell_type": "code",
   "execution_count": 5,
   "id": "39ed646a",
   "metadata": {},
   "outputs": [
    {
     "name": "stderr",
     "output_type": "stream",
     "text": [
      "100%|██████████████████████████████████████| 38.1M/38.1M [00:16<00:00, 2.26MB/s]\n"
     ]
    }
   ],
   "source": [
    "italy = shapefile_generator('Italy')"
   ]
  },
  {
   "cell_type": "markdown",
   "id": "9636fd16",
   "metadata": {},
   "source": [
    "## Morocco"
   ]
  },
  {
   "cell_type": "code",
   "execution_count": 6,
   "id": "6b0d6687",
   "metadata": {},
   "outputs": [
    {
     "name": "stderr",
     "output_type": "stream",
     "text": [
      "100%|██████████████████████████████████████| 11.6M/11.6M [00:03<00:00, 3.61MB/s]\n"
     ]
    }
   ],
   "source": [
    "morocco = shapefile_generator('Nigeria')"
   ]
  },
  {
   "cell_type": "markdown",
   "id": "f5cdfdb2",
   "metadata": {},
   "source": [
    "## Ecuador"
   ]
  },
  {
   "cell_type": "code",
   "execution_count": 7,
   "id": "3848ac8b",
   "metadata": {},
   "outputs": [
    {
     "name": "stderr",
     "output_type": "stream",
     "text": [
      "100%|██████████████████████████████████████| 99.4M/99.4M [00:17<00:00, 5.63MB/s]\n"
     ]
    }
   ],
   "source": [
    "ecuador = shapefile_generator('Ecuador')"
   ]
  },
  {
   "cell_type": "markdown",
   "id": "4b99d996",
   "metadata": {},
   "source": [
    "## New Zealand"
   ]
  },
  {
   "cell_type": "code",
   "execution_count": 8,
   "id": "3f4764fb",
   "metadata": {},
   "outputs": [
    {
     "name": "stderr",
     "output_type": "stream",
     "text": [
      "100%|██████████████████████████████████████| 78.5M/78.5M [00:11<00:00, 6.79MB/s]\n"
     ]
    }
   ],
   "source": [
    "newzealand = shapefile_generator('New Zealand')"
   ]
  },
  {
   "cell_type": "code",
   "execution_count": null,
   "id": "6530769e",
   "metadata": {},
   "outputs": [],
   "source": []
  }
 ],
 "metadata": {
  "kernelspec": {
   "display_name": "geo_env",
   "language": "python",
   "name": "geo_env"
  },
  "language_info": {
   "codemirror_mode": {
    "name": "ipython",
    "version": 3
   },
   "file_extension": ".py",
   "mimetype": "text/x-python",
   "name": "python",
   "nbconvert_exporter": "python",
   "pygments_lexer": "ipython3",
   "version": "3.11.4"
  }
 },
 "nbformat": 4,
 "nbformat_minor": 5
}
