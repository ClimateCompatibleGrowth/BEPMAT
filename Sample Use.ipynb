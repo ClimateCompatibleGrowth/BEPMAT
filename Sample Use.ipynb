{
 "cells": [
  {
   "cell_type": "markdown",
   "id": "8b248b7d",
   "metadata": {},
   "source": [
    "### Sample use of the code"
   ]
  },
  {
   "cell_type": "markdown",
   "id": "fe85d2a8",
   "metadata": {},
   "source": [
    "#### We will demonstrate the working of the tool and the results on a few countries from different continents and preferably different latitudes.   "
   ]
  },
  {
   "cell_type": "code",
   "execution_count": 4,
   "id": "bf07fd05",
   "metadata": {},
   "outputs": [],
   "source": [
    "# Importing the necessary libraries\n",
    "\n",
    "from Functions import shapefile_generator\n",
    "from Functions import graph_plotter_cropland\n",
    "from Functions import graph_plotter_marginal\n",
    "from Functions import graph_plotter_all\n",
    "\n",
    "import xarray as xr\n",
    "import netCDF4 as nc"
   ]
  },
  {
   "cell_type": "markdown",
   "id": "fdac2b0f",
   "metadata": {},
   "source": [
    "## Iceland "
   ]
  },
  {
   "cell_type": "code",
   "execution_count": 5,
   "id": "514230b7",
   "metadata": {},
   "outputs": [],
   "source": [
    "iceland = shapefile_generator('Iceland')"
   ]
  },
  {
   "cell_type": "code",
   "execution_count": 1,
   "id": "effbffeb",
   "metadata": {},
   "outputs": [],
   "source": [
    "fig_crop_ice, fig_marg_ice , fig_total_ice , xarrays_marg_ice , xarrays_crop_ice , final_potentials_marg_ice , arrays_total_ice = graph_plotter_all(iceland, 'NorESM1-M', 'Available water content of 200 mm/m (under irrigation conditions)' ,'High', 'Total')"
   ]
  },
  {
   "cell_type": "code",
   "execution_count": null,
   "id": "11fd48f9",
   "metadata": {
    "scrolled": true
   },
   "outputs": [],
   "source": [
    "fig_crop_ice"
   ]
  },
  {
   "cell_type": "code",
   "execution_count": null,
   "id": "deaf140e",
   "metadata": {},
   "outputs": [],
   "source": [
    "fig_marg_ice"
   ]
  },
  {
   "cell_type": "code",
   "execution_count": null,
   "id": "9b9a6d0d",
   "metadata": {},
   "outputs": [],
   "source": [
    "fig_total_ice"
   ]
  },
  {
   "cell_type": "markdown",
   "id": "3cb23982",
   "metadata": {},
   "source": [
    "## Italy"
   ]
  },
  {
   "cell_type": "code",
   "execution_count": 10,
   "id": "2d969eed",
   "metadata": {},
   "outputs": [],
   "source": [
    "italy = shapefile_generator('Italy')"
   ]
  },
  {
   "cell_type": "code",
   "execution_count": 14,
   "id": "8c746eea",
   "metadata": {},
   "outputs": [],
   "source": [
    "fig_crop_ita, fig_marg_ita , fig_total_ita , xarrays_marg_ita , xarrays_crop_ita , final_potentials_marg_ita , arrays_total_ita =graph_plotter_all(italy, 'NorESM1-M', 'Available water content of 200 mm/m (under irrigation conditions)' ,\n",
    "                  'High' , 'Total')"
   ]
  },
  {
   "cell_type": "markdown",
   "id": "95492065",
   "metadata": {},
   "source": [
    "## Morocco"
   ]
  },
  {
   "cell_type": "code",
   "execution_count": 6,
   "id": "36756510",
   "metadata": {},
   "outputs": [
    {
     "name": "stderr",
     "output_type": "stream",
     "text": [
      "100%|██████████████████████████████████████| 11.6M/11.6M [00:03<00:00, 3.61MB/s]\n"
     ]
    }
   ],
   "source": [
    "morocco = shapefile_generator('Nigeria')"
   ]
  },
  {
   "cell_type": "markdown",
   "id": "cc8f57ce",
   "metadata": {},
   "source": [
    "## Ecuador"
   ]
  },
  {
   "cell_type": "code",
   "execution_count": 7,
   "id": "3382696c",
   "metadata": {},
   "outputs": [
    {
     "name": "stderr",
     "output_type": "stream",
     "text": [
      "100%|██████████████████████████████████████| 99.4M/99.4M [00:17<00:00, 5.63MB/s]\n"
     ]
    }
   ],
   "source": [
    "ecuador = shapefile_generator('Ecuador')"
   ]
  },
  {
   "cell_type": "markdown",
   "id": "ead55e78",
   "metadata": {},
   "source": [
    "## New Zealand"
   ]
  },
  {
   "cell_type": "code",
   "execution_count": 8,
   "id": "0735b15c",
   "metadata": {},
   "outputs": [
    {
     "name": "stderr",
     "output_type": "stream",
     "text": [
      "100%|██████████████████████████████████████| 78.5M/78.5M [00:11<00:00, 6.79MB/s]\n"
     ]
    }
   ],
   "source": [
    "newzealand = shapefile_generator('New Zealand')"
   ]
  },
  {
   "cell_type": "code",
   "execution_count": null,
   "id": "b0850d7d",
   "metadata": {},
   "outputs": [],
   "source": []
  }
 ],
 "metadata": {
  "kernelspec": {
   "display_name": "geo_env",
   "language": "python",
   "name": "geo_env"
  },
  "language_info": {
   "codemirror_mode": {
    "name": "ipython",
    "version": 3
   },
   "file_extension": ".py",
   "mimetype": "text/x-python",
   "name": "python",
   "nbconvert_exporter": "python",
   "pygments_lexer": "ipython3",
   "version": "3.11.4"
  }
 },
 "nbformat": 4,
 "nbformat_minor": 5
}
