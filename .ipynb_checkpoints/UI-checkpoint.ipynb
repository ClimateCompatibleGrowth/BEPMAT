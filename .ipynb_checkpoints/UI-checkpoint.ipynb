{
 "cells": [
  {
   "cell_type": "markdown",
   "id": "336254f7",
   "metadata": {},
   "source": [
    "### This notebook is created for users to be able to use the tool easily without running the backend code. However we request you to please check out the Functions.ipynb and Sample_Use.ipynb to get an idea of what the tool outputs. We also have an Accessing_and_Visualising.ipynb to access and visualise the downloaded data from here "
   ]
  },
  {
   "cell_type": "markdown",
   "id": "ca7e2ba8",
   "metadata": {},
   "source": [
    "#### Currently the run-times might be high since everything is being computed on the spot but we are working towards reducing these drastically and this will be updated soon . \n",
    "####  We have also made the back-end code available and users are free to fork the repo and make desired changes in the code for their own purposes"
   ]
  },
  {
   "cell_type": "markdown",
   "id": "dfef4328",
   "metadata": {},
   "source": [
    "## Please ignore the code, just run the cells and select the values from the dropdowns generated"
   ]
  },
  {
   "cell_type": "code",
   "execution_count": 1,
   "id": "56f9fc95",
   "metadata": {},
   "outputs": [],
   "source": [
    "import pandas as pd\n",
    "import matplotlib.pyplot as plt\n",
    "import xarray as xr\n",
    "import plotly.graph_objects as go\n",
    "import ipywidgets as widgets\n",
    "from IPython.display import display , HTML , clear_output\n",
    "\n",
    "\n",
    "from Functions import shapefile_generator\n",
    "from Functions import graph_plotter_cropland \n",
    "from Functions import graph_plotter_marginal\n",
    "from Functions import graph_plotter_all\n",
    "from Functions import graph_plotter_total\n",
    "from Functions import bokeh_plot , crop_show"
   ]
  },
  {
   "cell_type": "code",
   "execution_count": 2,
   "id": "36fb84e2",
   "metadata": {},
   "outputs": [],
   "source": [
    "import re\n",
    "\n",
    "# Function to sanitize the key for NetCDF variable names\n",
    "def sanitize_key(key):\n",
    "    # Replace any non-alphanumeric characters with underscores\n",
    "    key = re.sub(r'[^a-zA-Z0-9_]', '_', key)\n",
    "    return key"
   ]
  },
  {
   "cell_type": "markdown",
   "id": "fc183dba",
   "metadata": {},
   "source": [
    "## Select Geography (Country and Province)  \n",
    "\n",
    "### Simply run the cell , scroll to the dropdowns, select your desired geography and press confirm.\n",
    "\n",
    "### Remark : Choose None in Province if you want for the whole country"
   ]
  },
  {
   "cell_type": "code",
   "execution_count": 3,
   "id": "fe6d486c",
   "metadata": {},
   "outputs": [
    {
     "data": {
      "application/vnd.jupyter.widget-view+json": {
       "model_id": "f1fe7a5967a34a2a9b4dbcfc771fd233",
       "version_major": 2,
       "version_minor": 0
      },
      "text/plain": [
       "HBox(children=(Dropdown(description='Country:', options=('Afghanistan', 'Akrotiri and Dhekelia', 'Aksai Chin',…"
      ]
     },
     "metadata": {},
     "output_type": "display_data"
    }
   ],
   "source": [
    "# Load data\n",
    "geography_df = pd.read_csv('Countries&Provinces.csv')\n",
    "\n",
    "# Get unique countries and provinces\n",
    "countries = geography_df['NAME_0'].unique()\n",
    "provinces = geography_df['NAME_1'].unique()\n",
    "\n",
    "# Create dropdown widgets\n",
    "country_dropdown = widgets.Dropdown(options=countries, description='Country:')\n",
    "province_dropdown = widgets.Dropdown(description='Province:')\n",
    "confirm_button = widgets.Button(description='Confirm Selection')\n",
    "\n",
    "# Global variables to store selected values\n",
    "selected_country = countries[0]\n",
    "selected_province = provinces[0]\n",
    "geography = None  # Initialize geography as None\n",
    "\n",
    "def update_provinces(change):\n",
    "    global selected_country\n",
    "    selected_country = change.new\n",
    "    filtered_provinces = geography_df[geography_df['NAME_0'] == selected_country]['NAME_1'].unique()\n",
    "\n",
    "    # Add an empty option to reselect or select a new province\n",
    "    province_dropdown.options = [None] + filtered_provinces.tolist()\n",
    "\n",
    "    # Set the value to the first province in the list, or 'Select Province' if the list is empty\n",
    "    province_dropdown.value = filtered_provinces[0] if filtered_provinces.any() else 'Select Province'\n",
    "\n",
    "# Attach the update_provinces function to the country dropdown's 'value' trait\n",
    "country_dropdown.observe(update_provinces, names='value')\n",
    "\n",
    "# Function to display selected values\n",
    "def on_confirm_button_click(button):\n",
    "    global selected_province, geography\n",
    "    clear_output(wait=True)  # Clear the output area before displaying new values\n",
    "\n",
    "    country_value = f\"<b>Selected Country:</b> {selected_country}\"\n",
    "\n",
    "    if province_dropdown.value and province_dropdown.value != 'Select Province':\n",
    "        selected_province = province_dropdown.value\n",
    "        province_value = f\"<b>Selected Province:</b> {selected_province}\"\n",
    "        \n",
    "        # Run the shapefile_generator code and assign the result to the global variable\n",
    "        geography = shapefile_generator(selected_country, selected_province)\n",
    "        \n",
    "        # Additional code if needed\n",
    "        \n",
    "        # Display a message to indicate success\n",
    "        print(\"Geography selected successfully!\")\n",
    "    else:\n",
    "        selected_province = None\n",
    "        province_value = \"<b>Selected Province:</b> None\"\n",
    "\n",
    "    display(HTML(f\"{country_value}<br>{province_value}\"))\n",
    "\n",
    "# Attach the on_confirm_button_click function to the button's 'on_click' event\n",
    "confirm_button.on_click(on_confirm_button_click)\n",
    "\n",
    "# Style dropdown options with HTML formatting\n",
    "country_dropdown.style.description_width = 'initial'\n",
    "country_dropdown.style.description_color = 'black'\n",
    "country_dropdown.style.font_weight = 'bold'\n",
    "province_dropdown.style.description_width = 'initial'\n",
    "province_dropdown.style.description_color = 'black'\n",
    "province_dropdown.style.font_weight = 'bold'\n",
    "\n",
    "# Display the widgets\n",
    "display(widgets.HBox([country_dropdown, province_dropdown, confirm_button]))"
   ]
  },
  {
   "cell_type": "markdown",
   "id": "8c30416f",
   "metadata": {},
   "source": [
    "### Simply run the cell , scroll to the dropdowns, select your desired climate model, irrigation conditions and Input Level and press confirm."
   ]
  },
  {
   "cell_type": "code",
   "execution_count": 4,
   "id": "ad0b62cf",
   "metadata": {},
   "outputs": [
    {
     "data": {
      "application/vnd.jupyter.widget-view+json": {
       "model_id": "abb870ea53f64ea998fada5486df28a6",
       "version_major": 2,
       "version_minor": 0
      },
      "text/plain": [
       "HBox(children=(Dropdown(description='Climate Model:', options=('GFDL-ESM2M', 'HadGEM2-ES', 'NorESM1-M', 'MIROC…"
      ]
     },
     "metadata": {},
     "output_type": "display_data"
    },
    {
     "data": {
      "application/vnd.jupyter.widget-view+json": {
       "model_id": "0ac23c4c5fa04b6b9cdf6d5125c20e35",
       "version_major": 2,
       "version_minor": 0
      },
      "text/plain": [
       "HBox(children=(Dropdown(description='Input Level:', options=('High',), style=DescriptionStyle(description_widt…"
      ]
     },
     "metadata": {},
     "output_type": "display_data"
    }
   ],
   "source": [
    "import ipywidgets as widgets\n",
    "from IPython.display import display, clear_output, HTML\n",
    "import plotly.graph_objects as go\n",
    "import numpy as np\n",
    "\n",
    "# Climate models options\n",
    "climate_models = ['GFDL-ESM2M', 'HadGEM2-ES', 'NorESM1-M', 'MIROC-ESM-CHEM', 'IPSL-CM5A-LR']\n",
    "\n",
    "# Water supply future options\n",
    "water_supply_future = ['Available water content of 200 mm/m (under irrigation conditions)',\n",
    "                       'Available water content of 200 mm/m (under rain-fed conditions)']\n",
    "\n",
    "# Input level options\n",
    "input_levels = ['High']\n",
    "\n",
    "# Global variables to store selected values\n",
    "selected_climate_model = 'GFDL-ESM2M'\n",
    "selected_water_supply = 'Available water content of 200 mm/m (under irrigation conditions)'\n",
    "selected_input_level = 'High'\n",
    "selected_water_supply_2010 = 'Total'  # New variable for the year 2010\n",
    "\n",
    "# Function to update selected climate model\n",
    "def update_climate_model(change):\n",
    "    global selected_climate_model\n",
    "    selected_climate_model = change.new\n",
    "\n",
    "# Function to update selected water supply future\n",
    "def update_water_supply(change):\n",
    "    global selected_water_supply\n",
    "    selected_water_supply = change.new\n",
    "\n",
    "# Function to update selected input level\n",
    "def update_input_level(change):\n",
    "    global selected_input_level\n",
    "    selected_input_level = change.new\n",
    "\n",
    "# Function to update selected water supply in 2010\n",
    "def update_water_supply_2010(change):\n",
    "    global selected_water_supply_2010\n",
    "    selected_water_supply_2010 = change.new\n",
    "\n",
    "# Function to display selected values\n",
    "def on_confirm_button_click(button):\n",
    "    clear_output(wait=True)  # Clear the output area before displaying new values\n",
    "\n",
    "    climate_model_value = f\"<b>Selected Climate Model:</b> {selected_climate_model}\"\n",
    "    water_supply_value = f\"<b>Selected Water Supply Future:</b> {selected_water_supply}\"\n",
    "    input_level_value = f\"<b>Selected Input Level:</b> {selected_input_level}\"\n",
    "    water_supply_2010_value = f\"<b>Selected Water Supply in 2010:</b> {selected_water_supply_2010}\"\n",
    "\n",
    "    display(HTML(f\"{climate_model_value}<br>{water_supply_value}<br>{input_level_value}<br>{water_supply_2010_value}\"))\n",
    "\n",
    "# Create dropdown widgets for climate models, water supply future, and input level\n",
    "climate_model_dropdown = widgets.Dropdown(options=climate_models, value=selected_climate_model, description='Climate Model:')\n",
    "water_supply_dropdown = widgets.Dropdown(options=water_supply_future, value=selected_water_supply, description='Water Supply Future:')\n",
    "input_level_dropdown = widgets.Dropdown(options=input_levels, value=selected_input_level, description='Input Level:')\n",
    "water_supply_2010_dropdown = widgets.Dropdown(options=['Total', 'Irrigated', 'Rainfed'], value=selected_water_supply_2010, description='Water Supply in 2010:')\n",
    "\n",
    "# Create a button for confirmation\n",
    "confirm_button = widgets.Button(description='Confirm Selection')\n",
    "\n",
    "# Attach the update functions to the dropdowns' 'value' trait\n",
    "climate_model_dropdown.observe(update_climate_model, names='value')\n",
    "water_supply_dropdown.observe(update_water_supply, names='value')\n",
    "input_level_dropdown.observe(update_input_level, names='value')\n",
    "water_supply_2010_dropdown.observe(update_water_supply_2010, names='value')\n",
    "\n",
    "# Attach the on_confirm_button_click function to the button's 'on_click' event\n",
    "confirm_button.on_click(on_confirm_button_click)\n",
    "\n",
    "# Style dropdown options with HTML formatting\n",
    "climate_model_dropdown.style.description_width = 'initial'\n",
    "climate_model_dropdown.style.description_color = 'black'\n",
    "climate_model_dropdown.style.font_weight = 'bold'\n",
    "water_supply_dropdown.style.description_width = 'initial'\n",
    "water_supply_dropdown.style.description_color = 'black'\n",
    "water_supply_dropdown.style.font_weight = 'bold'\n",
    "input_level_dropdown.style.description_width = 'initial'\n",
    "input_level_dropdown.style.description_color = 'black'\n",
    "input_level_dropdown.style.font_weight = 'bold'\n",
    "water_supply_2010_dropdown.style.description_width = 'initial'\n",
    "water_supply_2010_dropdown.style.description_color = 'black'\n",
    "water_supply_2010_dropdown.style.font_weight = 'bold'\n",
    "\n",
    "# Display the widgets in two rows\n",
    "display(widgets.HBox([climate_model_dropdown, water_supply_dropdown]))\n",
    "display(widgets.HBox([input_level_dropdown, water_supply_2010_dropdown, confirm_button]))\n"
   ]
  },
  {
   "cell_type": "markdown",
   "id": "8d01c4fe",
   "metadata": {},
   "source": [
    "### Simply run the following cells and then click on Run. Wait for the code to run and the graphs to appear, then select the RCP and Time-period for whcih you want to download the data. Click Download and the xarrays generated will be downloaded as NetCDF4 files. "
   ]
  },
  {
   "cell_type": "markdown",
   "id": "235aa498",
   "metadata": {},
   "source": [
    "###  Cropland data"
   ]
  },
  {
   "cell_type": "code",
   "execution_count": 5,
   "id": "571e72dd",
   "metadata": {},
   "outputs": [
    {
     "data": {
      "application/vnd.jupyter.widget-view+json": {
       "model_id": "9156b20081ed48f0bbde820e0f6a06f7",
       "version_major": 2,
       "version_minor": 0
      },
      "text/plain": [
       "Button(description='Run', style=ButtonStyle())"
      ]
     },
     "metadata": {},
     "output_type": "display_data"
    }
   ],
   "source": [
    "import ipywidgets as widgets\n",
    "from IPython.display import display, clear_output\n",
    "\n",
    "# Create a button to run the code\n",
    "run_button = widgets.Button(description='Run')\n",
    "\n",
    "# Create a button to download xarrays as NetCDF4\n",
    "download_nc_button = widgets.Button(description='Download NetCDF4')\n",
    "\n",
    "# Create dropdown widgets for RCP and time period\n",
    "rcp_dropdown = widgets.Dropdown(options=['RCP2.6', 'RCP4.5', 'RCP6.0', 'RCP8.5'], value='RCP2.6', description='RCP:')\n",
    "time_period_dropdown = widgets.Dropdown(options=['2011-2040', '2041-2070', '2071-2100'], value='2011-2040', description='Time Period:')\n",
    "\n",
    "# Function to run the code on button click\n",
    "def on_run_button_click(button):\n",
    "    clear_output(wait=True)  # Clear the output area before running the code\n",
    "    global fig_crop, xarrays_crop\n",
    "    fig_crop, xarrays_crop = graph_plotter_cropland(shapefile=geography, climate_model=selected_climate_model,\n",
    "                                          water_supply_future=selected_water_supply, input_level=selected_input_level)\n",
    "    \n",
    "    \n",
    "    # Display the dropdowns after the graph is loaded\n",
    "    display(rcp_dropdown)\n",
    "    display(time_period_dropdown)\n",
    "    \n",
    "    # Display the \"Download NetCDF4\" button after the graph is loaded\n",
    "    display(download_nc_button)\n",
    "\n",
    "# Attach the on_run_button_click function to the button's 'on_click' event\n",
    "run_button.on_click(on_run_button_click)\n",
    "\n",
    "# Function to download xarrays as NetCDF4 on button click\n",
    "def on_download_nc_button_click(button):\n",
    "    if xarrays_crop:\n",
    "        # Get the selected RCP and time period from the dropdowns\n",
    "        selected_rcp = rcp_dropdown.value\n",
    "        selected_time_period = time_period_dropdown.value\n",
    "\n",
    "        try:\n",
    "            # Access the selected xarray using the selected RCP and time period\n",
    "            selected_xarray = xarrays_crop[(selected_rcp, selected_time_period)]\n",
    "\n",
    "            # Save the selected xarray as a NetCDF4 file\n",
    "            selected_xarray.to_netcdf(f'{selected_country}_{selected_province}_{selected_rcp}_{selected_time_period}_cropland_data.nc')\n",
    "            print('NetCDF4 file downloaded successfully.')\n",
    "        except Exception as e:\n",
    "            print(f'Error creating dataset: {e}')\n",
    "    else:\n",
    "        print('No xarrays available. Please run the code first.')\n",
    "\n",
    "# Attach the on_download_nc_button_click function to the button's 'on_click' event\n",
    "download_nc_button.on_click(on_download_nc_button_click)\n",
    "\n",
    "# Display the \"Run\" button initially\n",
    "display(run_button)\n"
   ]
  },
  {
   "cell_type": "markdown",
   "id": "fc75c79b",
   "metadata": {},
   "source": [
    "### Marginal Land Data"
   ]
  },
  {
   "cell_type": "code",
   "execution_count": 6,
   "id": "cf903e07",
   "metadata": {},
   "outputs": [
    {
     "data": {
      "application/vnd.jupyter.widget-view+json": {
       "model_id": "b0756b0a9fa148738956f3f210956cfe",
       "version_major": 2,
       "version_minor": 0
      },
      "text/plain": [
       "Button(description='Run', style=ButtonStyle())"
      ]
     },
     "metadata": {},
     "output_type": "display_data"
    }
   ],
   "source": [
    "import ipywidgets as widgets\n",
    "from IPython.display import display, clear_output\n",
    "\n",
    "# Create a button to run the code\n",
    "run_button = widgets.Button(description='Run')\n",
    "\n",
    "# Create a button to download xarrays as NetCDF4\n",
    "download_nc_button = widgets.Button(description='Download NetCDF4')\n",
    "\n",
    "# Create dropdown widgets for RCP and time period\n",
    "rcp_dropdown = widgets.Dropdown(options=['RCP2.6', 'RCP4.5', 'RCP6.0', 'RCP8.5'], value='RCP2.6', description='RCP:')\n",
    "time_period_dropdown = widgets.Dropdown(options=['2011-2040', '2041-2070', '2071-2100'], value='2011-2040', description='Time Period:')\n",
    "\n",
    "# Function to run the code on button click\n",
    "def on_run_button_click(button):\n",
    "    clear_output(wait=True)  # Clear the output area before running the code\n",
    "    global fig_marg, xarrays_marg , final_potentials_marg\n",
    "    fig_marg, xarrays_marg , final_potentials_marg = graph_plotter_marginal(shapefile=geography, climate_model=selected_climate_model,\n",
    "                                          water_supply_future=selected_water_supply, input_level=selected_input_level)\n",
    "    \n",
    "    \n",
    "    # Display the dropdowns after the graph is loaded\n",
    "    display(rcp_dropdown)\n",
    "    display(time_period_dropdown)\n",
    "    \n",
    "    # Display the \"Download NetCDF4\" button after the graph is loaded\n",
    "    display(download_nc_button)\n",
    "\n",
    "# Attach the on_run_button_click function to the button's 'on_click' event\n",
    "run_button.on_click(on_run_button_click)\n",
    "\n",
    "# Function to download xarrays as NetCDF4 on button click\n",
    "def on_download_nc_button_click(button):\n",
    "    if xarrays_marg:\n",
    "        # Get the selected RCP and time period from the dropdowns\n",
    "        selected_rcp = rcp_dropdown.value\n",
    "        selected_time_period = time_period_dropdown.value\n",
    "\n",
    "        try:\n",
    "            # Access the selected xarray using the selected RCP and time period\n",
    "            selected_xarray = xarrays_marg[(selected_rcp, selected_time_period)]\n",
    "            selected_final_potentials = final_potentials_marg[(selected_rcp, selected_time_period)]\n",
    "            \n",
    "            # Drop the first dimension from selected_final_potentials and select the coords and dims\n",
    "            coords = {'latitude': selected_xarray['latitude'], 'longitude': selected_xarray['longitude']}\n",
    "            selected_final_potentials = selected_final_potentials[0]\n",
    "            \n",
    "           # Create a new xarray dataset with the same dimensions and coordinates\n",
    "            xarray_final_potentials= xr.DataArray(data=selected_final_potentials, dims=('y', 'x'), coords=coords , name='final_energy_potential')\n",
    "\n",
    "            # Save the selected xarray as a NetCDF4 file\n",
    "            selected_xarray.to_netcdf(f'{selected_country}_{selected_province}_{selected_rcp}_{selected_time_period}_marginal_land_data.nc')\n",
    "            \n",
    "            # Save the new xarray dataset as a NetCDF4 file\n",
    "            xarray_final_potentials.to_netcdf(f'{selected_country}_{selected_province}_{selected_rcp}_{selected_time_period}_marginal_land_final_energy_potential_data.nc', 'w')\n",
    "            \n",
    "        except Exception as e:\n",
    "            print(f'Error creating dataset: {e}')\n",
    "    else:\n",
    "        print('No xarrays available. Please run the code first.')\n",
    "\n",
    "# Attach the on_download_nc_button_click function to the button's 'on_click' event\n",
    "download_nc_button.on_click(on_download_nc_button_click)\n",
    "\n",
    "# Display the \"Run\" button initially\n",
    "display(run_button)\n"
   ]
  },
  {
   "cell_type": "markdown",
   "id": "dcc8154f",
   "metadata": {},
   "source": [
    "### Cropland , Marginal and Total Land Data"
   ]
  },
  {
   "cell_type": "code",
   "execution_count": 7,
   "id": "d3cb5754",
   "metadata": {
    "scrolled": false
   },
   "outputs": [
    {
     "data": {
      "application/vnd.jupyter.widget-view+json": {
       "model_id": "f944c4798e9340dfa5f69f1e555a588b",
       "version_major": 2,
       "version_minor": 0
      },
      "text/plain": [
       "Button(description='Run All', style=ButtonStyle())"
      ]
     },
     "metadata": {},
     "output_type": "display_data"
    }
   ],
   "source": [
    "import ipywidgets as widgets\n",
    "from IPython.display import display, clear_output\n",
    "import plotly.graph_objects as go\n",
    "import numpy as np\n",
    "import xarray as xr\n",
    "\n",
    "# Create a button to run the code\n",
    "run_button_all = widgets.Button(description='Run All')\n",
    "\n",
    "# Create a button to download xarrays as NetCDF4\n",
    "download_nc_button_all = widgets.Button(description='Download NetCDF4')\n",
    "\n",
    "# Create dropdown widgets for RCP and time period\n",
    "rcp_dropdown_all = widgets.Dropdown(options=['RCP2.6', 'RCP4.5', 'RCP6.0', 'RCP8.5'], value='RCP2.6', description='RCP:')\n",
    "time_period_dropdown_all = widgets.Dropdown(options=['2011-2040', '2041-2070', '2071-2100'], value='2011-2040', description='Time Period:')\n",
    "\n",
    "# Function to run the code on button click\n",
    "def on_run_button_all_click(button):\n",
    "    clear_output(wait=True)  # Clear the output area before running the code\n",
    "    global fig_crop_all, fig_marg_all, fig_total_all, xarrays_marg_all, xarrays_crop_all, final_potentials_marg_all, arrays_total_all\n",
    "    fig_crop_all, fig_marg_all, fig_total_all, xarrays_marg_all, xarrays_crop_all, final_potentials_marg_all, arrays_total_all = graph_plotter_all(\n",
    "        shapefile=geography, climate_model=selected_climate_model,\n",
    "        water_supply_future=selected_water_supply, input_level=selected_input_level, water_supply_2010=selected_water_supply_2010\n",
    "    )\n",
    "\n",
    "    # Display the dropdowns after the graphs are loaded\n",
    "    display(rcp_dropdown_all)\n",
    "    display(time_period_dropdown_all)\n",
    "\n",
    "    # Display the \"Download NetCDF4\" button after the graphs are loaded\n",
    "    display(download_nc_button_all)\n",
    "\n",
    "# Attach the on_run_button_all_click function to the button's 'on_click' event\n",
    "run_button_all.on_click(on_run_button_all_click)\n",
    "\n",
    "# Function to download xarrays as NetCDF4 on button click\n",
    "def on_download_nc_button_all_click(button):\n",
    "    if xarrays_crop_all and xarrays_marg_all and arrays_total_all: # and final_potentials_marg_all:\n",
    "        # Get the selected RCP and time period from the dropdowns\n",
    "        selected_rcp = rcp_dropdown_all.value\n",
    "        selected_time_period = time_period_dropdown_all.value\n",
    "\n",
    "        try:\n",
    "            # Choose the xarray based on the selected RCP and time period\n",
    "            selected_xarray_crop = xarrays_crop_all.get((selected_rcp, selected_time_period))\n",
    "            selected_xarray_marg = xarrays_marg_all.get((selected_rcp, selected_time_period))\n",
    "            selected_array_total = arrays_total_all.get((selected_rcp, selected_time_period))\n",
    "            selected_final_potentials_marg = final_potentials_marg_all.get(((selected_rcp, selected_time_period)))\n",
    "\n",
    "            if selected_xarray_crop is not None:\n",
    "                selected_xarray_crop.to_netcdf(f'{selected_country}_{selected_province}_{selected_rcp}_{selected_time_period}_cropland.nc')\n",
    "                print('NetCDF4 file for cropland downloaded successfully.')\n",
    "            if selected_xarray_marg is not None:\n",
    "                selected_xarray_marg.to_netcdf(f'{selected_country}_{selected_province}_{selected_rcp}_{selected_time_period}_marginal.nc')\n",
    "                print('NetCDF4 file for marginal land downloaded successfully.')\n",
    "                \n",
    "            if selected_final_potentials_marg is not None: \n",
    "                # Drop the first dimension from selected_final_potentials and select the coords and dims\n",
    "                coords = {'latitude': selected_xarray_crop['latitude'], 'longitude': selected_xarray_crop['longitude']}\n",
    "                selected_final_potentials_marg = selected_final_potentials_marg[0]\n",
    "            \n",
    "               # Create a new xarray dataset with the same dimensions and coordinates\n",
    "                xarray_final_potentials_marg= xr.DataArray(data=selected_final_potentials_marg, dims=('y', 'x'), coords=coords , name='final_energy_potential_marg')\n",
    "                xarray_final_potentials_marg.to_netcdf(f'{selected_country}_{selected_province}_{selected_rcp}_{selected_time_period}_marginal_land_final_energy_potential_data.nc', 'w')\n",
    "                \n",
    "            if selected_array_total is not None:\n",
    "                # Drop the first dimension from selected_final_potentials and select the coords and dims\n",
    "                coords = {'latitude': selected_xarray_crop['latitude'], 'longitude': selected_xarray_crop['longitude']}\n",
    "                selected_array_total = selected_array_total[0] if selected_array_total.ndim == 3 else selected_array_total\n",
    "            \n",
    "               # Create a new xarray dataset with the same dimensions and coordinates\n",
    "                xarray_total= xr.DataArray(data=selected_array_total, dims=('y', 'x'), coords=coords , name='total_energy_potential')\n",
    "                xarray_total.to_netcdf(f'{selected_country}_{selected_province}_{selected_rcp}_{selected_time_period}_marginal_land_final_energy_potential_data.nc', 'w')\n",
    "                print('NetCDF4 file for total land downloaded successfully.')\n",
    "                \n",
    "        except Exception as e:\n",
    "            print(f'Error creating dataset: {e}')\n",
    "    else:\n",
    "        print('No xarrays available. Please run the code first.')\n",
    "\n",
    "# Attach the on_download_nc_button_all_click function to the button's 'on_click' event\n",
    "download_nc_button_all.on_click(on_download_nc_button_all_click)\n",
    "\n",
    "# Display the \"Run All\" button initially\n",
    "display(run_button_all)"
   ]
  },
  {
   "cell_type": "code",
   "execution_count": null,
   "id": "41702864",
   "metadata": {},
   "outputs": [],
   "source": []
  }
 ],
 "metadata": {
  "kernelspec": {
   "display_name": "geo_env",
   "language": "python",
   "name": "geo_env"
  },
  "language_info": {
   "codemirror_mode": {
    "name": "ipython",
    "version": 3
   },
   "file_extension": ".py",
   "mimetype": "text/x-python",
   "name": "python",
   "nbconvert_exporter": "python",
   "pygments_lexer": "ipython3",
   "version": "3.11.4"
  }
 },
 "nbformat": 4,
 "nbformat_minor": 5
}
