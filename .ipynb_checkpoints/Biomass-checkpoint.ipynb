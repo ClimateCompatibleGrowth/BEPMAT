{
 "cells": [
  {
   "cell_type": "markdown",
   "id": "5338f1a3",
   "metadata": {},
   "source": [
    "# Biomass Mapping"
   ]
  },
  {
   "cell_type": "code",
   "execution_count": 1,
   "id": "e52618d9",
   "metadata": {},
   "outputs": [],
   "source": [
    "import pandas as pd\n",
    "import geopandas as gpd"
   ]
  },
  {
   "cell_type": "markdown",
   "id": "01fc6042",
   "metadata": {},
   "source": [
    "Now I will import the csv file containing data for each crop for Agro-Climatic Potential Yield\n"
   ]
  },
  {
   "cell_type": "code",
   "execution_count": 3,
   "id": "7f469c39",
   "metadata": {},
   "outputs": [],
   "source": [
    "df= pd.read_csv(\"./dataset/crop.csv\")"
   ]
  },
  {
   "cell_type": "code",
   "execution_count": 5,
   "id": "3069fc88",
   "metadata": {},
   "outputs": [
    {
     "name": "stdout",
     "output_type": "stream",
     "text": [
      "                             Source.Name          Name  \\\n",
      "0  Agro-climatic Potential Yield (1).csv  alfa200a_yld   \n",
      "1  Agro-climatic Potential Yield (1).csv  alfa200a_yld   \n",
      "2  Agro-climatic Potential Yield (1).csv  alfa200a_yld   \n",
      "3  Agro-climatic Potential Yield (1).csv  alfa200a_yld   \n",
      "4  Agro-climatic Potential Yield (1).csv  alfa200a_yld   \n",
      "\n",
      "                                      Path to File       Sub-Theme Name  \\\n",
      "0  \\res02\\NorESM1-M\\rcp8p5\\2080sH\\alfa200a_yld.tif  Agro-climatic Yield   \n",
      "1  \\res02\\NorESM1-M\\rcp8p5\\2050sH\\alfa200a_yld.tif  Agro-climatic Yield   \n",
      "2  \\res02\\NorESM1-M\\rcp8p5\\2020sH\\alfa200a_yld.tif  Agro-climatic Yield   \n",
      "3  \\res02\\NorESM1-M\\rcp6p0\\2080sH\\alfa200a_yld.tif  Agro-climatic Yield   \n",
      "4  \\res02\\NorESM1-M\\rcp6p0\\2050sH\\alfa200a_yld.tif  Agro-climatic Yield   \n",
      "\n",
      "                   Variable Name  \\\n",
      "0  Agro-climatic potential yield   \n",
      "1  Agro-climatic potential yield   \n",
      "2  Agro-climatic potential yield   \n",
      "3  Agro-climatic potential yield   \n",
      "4  Agro-climatic potential yield   \n",
      "\n",
      "                                         Description Time Period  \\\n",
      "0  Agro-climatic potential yield for the time per...   2071-2100   \n",
      "1  Agro-climatic potential yield for the time per...   2041-2070   \n",
      "2  Agro-climatic potential yield for the time per...   2011-2040   \n",
      "3  Agro-climatic potential yield for the time per...   2071-2100   \n",
      "4  Agro-climatic potential yield for the time per...   2041-2070   \n",
      "\n",
      "  Climate Model     RCP     Crop  \\\n",
      "0     NorESM1-M  RCP8.5  Alfalfa   \n",
      "1     NorESM1-M  RCP8.5  Alfalfa   \n",
      "2     NorESM1-M  RCP8.5  Alfalfa   \n",
      "3     NorESM1-M  RCP6.0  Alfalfa   \n",
      "4     NorESM1-M  RCP6.0  Alfalfa   \n",
      "\n",
      "                                        Water Supply Input Level Data  Units  \\\n",
      "0  Available water content of 200 mm/m (under irr...        High  10kg DW/ha   \n",
      "1  Available water content of 200 mm/m (under irr...        High  10kg DW/ha   \n",
      "2  Available water content of 200 mm/m (under irr...        High  10kg DW/ha   \n",
      "3  Available water content of 200 mm/m (under irr...        High  10kg DW/ha   \n",
      "4  Available water content of 200 mm/m (under irr...        High  10kg DW/ha   \n",
      "\n",
      "                      Recommended Renderer  \\\n",
      "0  Agro-climatic Potential Yield Symbology   \n",
      "1  Agro-climatic Potential Yield Symbology   \n",
      "2  Agro-climatic Potential Yield Symbology   \n",
      "3  Agro-climatic Potential Yield Symbology   \n",
      "4  Agro-climatic Potential Yield Symbology   \n",
      "\n",
      "                                        Download URL  File Identifier  \n",
      "0   https://s3.eu-west-1.amazonaws.com/data.gaezd...           208860  \n",
      "1   https://s3.eu-west-1.amazonaws.com/data.gaezd...           214764  \n",
      "2   https://s3.eu-west-1.amazonaws.com/data.gaezd...           202956  \n",
      "3   https://s3.eu-west-1.amazonaws.com/data.gaezd...           191148  \n",
      "4   https://s3.eu-west-1.amazonaws.com/data.gaezd...           197052  \n"
     ]
    }
   ],
   "source": [
    "print(df.head())"
   ]
  },
  {
   "cell_type": "code",
   "execution_count": null,
   "id": "7ddfd8d0",
   "metadata": {},
   "outputs": [],
   "source": []
  }
 ],
 "metadata": {
  "kernelspec": {
   "display_name": "geo_env",
   "language": "python",
   "name": "geo_env"
  },
  "language_info": {
   "codemirror_mode": {
    "name": "ipython",
    "version": 3
   },
   "file_extension": ".py",
   "mimetype": "text/x-python",
   "name": "python",
   "nbconvert_exporter": "python",
   "pygments_lexer": "ipython3",
   "version": "3.11.3"
  }
 },
 "nbformat": 4,
 "nbformat_minor": 5
}
