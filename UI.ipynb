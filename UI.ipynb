{
 "cells": [
  {
   "cell_type": "markdown",
   "id": "336254f7",
   "metadata": {},
   "source": [
    "### This notebook is created for users to be able to use the tool easily without running the backend code. However we request you to please check out the Functions.ipynb and Sample_Use.ipynb to get an idea on the total range of outputs. We also have an Accessing_and_Visualising.ipynb to access and visualise the downloaded data from this notebook."
   ]
  },
  {
   "cell_type": "markdown",
   "id": "ca7e2ba8",
   "metadata": {},
   "source": [
    "#### Currently the run-times are high since all the computation is done on the spot. However, we are working towards reducing these drastically and this will be updated soon . \n",
    "####  We have also made the back-end code available and users are free to fork the repo and make desired changes in the code for their own purposes"
   ]
  },
  {
   "cell_type": "markdown",
   "id": "dfef4328",
   "metadata": {},
   "source": [
    "## Please ignore the code, just run the cells and select the values from the dropdowns generated"
   ]
  },
  {
   "cell_type": "code",
   "execution_count": 1,
   "id": "56f9fc95",
   "metadata": {},
   "outputs": [],
   "source": [
    "import pandas as pd\n",
    "import matplotlib.pyplot as plt\n",
    "import xarray as xr\n",
    "import plotly.graph_objects as go\n",
    "import ipywidgets as widgets\n",
    "from IPython.display import display , HTML , clear_output\n",
    "\n",
    "\n",
    "from Functions import shapefile_generator\n",
    "from Functions import graph_plotter_cropland \n",
    "from Functions import graph_plotter_marginal\n",
    "from Functions import graph_plotter_all\n",
    "from Functions import bokeh_plot , crop_show"
   ]
  },
  {
   "cell_type": "code",
   "execution_count": 2,
   "id": "36fb84e2",
   "metadata": {},
   "outputs": [],
   "source": [
    "import re\n",
    "\n",
    "# Function to sanitize the key for NetCDF variable names\n",
    "def sanitize_key(key):\n",
    "    # Replace any non-alphanumeric characters with underscores\n",
    "    key = re.sub(r'[^a-zA-Z0-9_]', '_', key)\n",
    "    return key"
   ]
  },
  {
   "cell_type": "markdown",
   "id": "fc183dba",
   "metadata": {},
   "source": [
    "## Select Geography (Country and Province)  \n",
    "\n",
    "### Simply run the cell , scroll to the drop down box, select your desired geography and press confirm.\n",
    "\n",
    "### Remark : Choose None in Province if you want for the whole country"
   ]
  },
  {
   "cell_type": "code",
   "execution_count": 6,
   "id": "fe6d486c",
   "metadata": {},
   "outputs": [
    {
     "data": {
      "text/html": [
       "<b>Selected Country:</b> Nepal<br><b>Selected Province:</b> None"
      ],
      "text/plain": [
       "<IPython.core.display.HTML object>"
      ]
     },
     "metadata": {},
     "output_type": "display_data"
    }
   ],
   "source": [
    "# Load data\n",
    "geography_df = pd.read_csv('Countries&Provinces.csv')\n",
    "\n",
    "# Get unique countries and provinces\n",
    "countries = geography_df['NAME_0'].unique()\n",
    "provinces = geography_df['NAME_1'].unique()\n",
    "\n",
    "# Create dropdown widgets\n",
    "country_dropdown = widgets.Dropdown(options=countries, description='Country:')\n",
    "province_dropdown = widgets.Dropdown(description='Province:')\n",
    "confirm_button = widgets.Button(description='Confirm Selection')\n",
    "\n",
    "# Global variables to store selected values\n",
    "selected_country = countries[0]\n",
    "selected_province = provinces[0]\n",
    "geography = None  # Initialize geography as None\n",
    "\n",
    "def update_provinces(change):\n",
    "    global selected_country\n",
    "    selected_country = change.new\n",
    "    filtered_provinces = geography_df[geography_df['NAME_0'] == selected_country]['NAME_1'].unique()\n",
    "\n",
    "    # Add an empty option to reselect or select a new province\n",
    "    province_dropdown.options = [None] + filtered_provinces.tolist()\n",
    "\n",
    "    # Set the value to the first province in the list, or 'Select Province' if the list is empty\n",
    "    province_dropdown.value = filtered_provinces[0] if filtered_provinces.any() else 'Select Province'\n",
    "\n",
    "# Attach the update_provinces function to the country dropdown's 'value' trait\n",
    "country_dropdown.observe(update_provinces, names='value')\n",
    "\n",
    "# Function to display selected values\n",
    "def on_confirm_button_click(button):\n",
    "    global selected_province, geography\n",
    "    clear_output(wait=True)  # Clear the output area before displaying new values\n",
    "\n",
    "    country_value = f\"<b>Selected Country:</b> {selected_country}\"\n",
    "\n",
    "    if province_dropdown.value and province_dropdown.value != 'Select Province':\n",
    "        selected_province = province_dropdown.value\n",
    "        province_value = f\"<b>Selected Province:</b> {selected_province}\"\n",
    "        \n",
    "        # Run the shapefile_generator code and assign the result to the global variable\n",
    "        geography = shapefile_generator(selected_country, selected_province)\n",
    "        \n",
    "        # Additional code if needed\n",
    "        \n",
    "        # Display a message to indicate success\n",
    "        print(\"Geography selected successfully!\")\n",
    "    else:\n",
    "        selected_province = None\n",
    "        province_value = \"<b>Selected Province:</b> None\"\n",
    "        geography = shapefile_generator(selected_country)\n",
    "\n",
    "    display(HTML(f\"{country_value}<br>{province_value}\"))\n",
    "\n",
    "# Attach the on_confirm_button_click function to the button's 'on_click' event\n",
    "confirm_button.on_click(on_confirm_button_click)\n",
    "\n",
    "# Style dropdown options with HTML formatting\n",
    "country_dropdown.style.description_width = 'initial'\n",
    "country_dropdown.style.description_color = 'black'\n",
    "country_dropdown.style.font_weight = 'bold'\n",
    "province_dropdown.style.description_width = 'initial'\n",
    "province_dropdown.style.description_color = 'black'\n",
    "province_dropdown.style.font_weight = 'bold'\n",
    "\n",
    "# Display the widgets\n",
    "display(widgets.HBox([country_dropdown, province_dropdown, confirm_button]))"
   ]
  },
  {
   "cell_type": "markdown",
   "id": "8c30416f",
   "metadata": {},
   "source": [
    "### Simply run the cell , scroll to the dropdowns, select your desired climate model, irrigation conditions and Input Level and press confirm."
   ]
  },
  {
   "cell_type": "code",
   "execution_count": 7,
   "id": "ad0b62cf",
   "metadata": {},
   "outputs": [
    {
     "data": {
      "text/html": [
       "<b>Selected Climate Model:</b> GFDL-ESM2M<br><b>Selected Water Supply Future:</b> Available water content of 200 mm/m (under irrigation conditions)<br><b>Selected Input Level:</b> High<br><b>Selected Water Supply in 2010:</b> Total"
      ],
      "text/plain": [
       "<IPython.core.display.HTML object>"
      ]
     },
     "metadata": {},
     "output_type": "display_data"
    }
   ],
   "source": [
    "import ipywidgets as widgets\n",
    "from IPython.display import display, clear_output, HTML\n",
    "import plotly.graph_objects as go\n",
    "import numpy as np\n",
    "\n",
    "# Climate models options\n",
    "climate_models = ['GFDL-ESM2M', 'HadGEM2-ES', 'NorESM1-M', 'MIROC-ESM-CHEM', 'IPSL-CM5A-LR']\n",
    "\n",
    "# Water supply future options\n",
    "water_supply_future = ['Available water content of 200 mm/m (under irrigation conditions)',\n",
    "                       'Available water content of 200 mm/m (under rain-fed conditions)']\n",
    "\n",
    "# Input level options\n",
    "input_levels = ['High']\n",
    "\n",
    "# Global variables to store selected values\n",
    "selected_climate_model = 'GFDL-ESM2M'\n",
    "selected_water_supply = 'Available water content of 200 mm/m (under irrigation conditions)'\n",
    "selected_input_level = 'High'\n",
    "selected_water_supply_2010 = 'Total'  # New variable for the year 2010\n",
    "\n",
    "# Function to update selected climate model\n",
    "def update_climate_model(change):\n",
    "    global selected_climate_model\n",
    "    selected_climate_model = change.new\n",
    "\n",
    "# Function to update selected water supply future\n",
    "def update_water_supply(change):\n",
    "    global selected_water_supply\n",
    "    selected_water_supply = change.new\n",
    "\n",
    "# Function to update selected input level\n",
    "def update_input_level(change):\n",
    "    global selected_input_level\n",
    "    selected_input_level = change.new\n",
    "\n",
    "# Function to update selected water supply in 2010\n",
    "def update_water_supply_2010(change):\n",
    "    global selected_water_supply_2010\n",
    "    selected_water_supply_2010 = change.new\n",
    "\n",
    "# Function to display selected values\n",
    "def on_confirm_button_click(button):\n",
    "    clear_output(wait=True)  # Clear the output area before displaying new values\n",
    "\n",
    "    climate_model_value = f\"<b>Selected Climate Model:</b> {selected_climate_model}\"\n",
    "    water_supply_value = f\"<b>Selected Water Supply Future:</b> {selected_water_supply}\"\n",
    "    input_level_value = f\"<b>Selected Input Level:</b> {selected_input_level}\"\n",
    "    water_supply_2010_value = f\"<b>Selected Water Supply in 2010:</b> {selected_water_supply_2010}\"\n",
    "\n",
    "    display(HTML(f\"{climate_model_value}<br>{water_supply_value}<br>{input_level_value}<br>{water_supply_2010_value}\"))\n",
    "\n",
    "# Create dropdown widgets for climate models, water supply future, and input level\n",
    "climate_model_dropdown = widgets.Dropdown(options=climate_models, value=selected_climate_model, description='Climate Model:')\n",
    "water_supply_dropdown = widgets.Dropdown(options=water_supply_future, value=selected_water_supply, description='Water Supply Future:')\n",
    "input_level_dropdown = widgets.Dropdown(options=input_levels, value=selected_input_level, description='Input Level:')\n",
    "water_supply_2010_dropdown = widgets.Dropdown(options=['Total', 'Irrigated', 'Rainfed'], value=selected_water_supply_2010, description='Water Supply in 2010:')\n",
    "\n",
    "# Create a button for confirmation\n",
    "confirm_button = widgets.Button(description='Confirm Selection')\n",
    "\n",
    "# Attach the update functions to the dropdowns' 'value' trait\n",
    "climate_model_dropdown.observe(update_climate_model, names='value')\n",
    "water_supply_dropdown.observe(update_water_supply, names='value')\n",
    "input_level_dropdown.observe(update_input_level, names='value')\n",
    "water_supply_2010_dropdown.observe(update_water_supply_2010, names='value')\n",
    "\n",
    "# Attach the on_confirm_button_click function to the button's 'on_click' event\n",
    "confirm_button.on_click(on_confirm_button_click)\n",
    "\n",
    "# Style dropdown options with HTML formatting\n",
    "climate_model_dropdown.style.description_width = 'initial'\n",
    "climate_model_dropdown.style.description_color = 'black'\n",
    "climate_model_dropdown.style.font_weight = 'bold'\n",
    "water_supply_dropdown.style.description_width = 'initial'\n",
    "water_supply_dropdown.style.description_color = 'black'\n",
    "water_supply_dropdown.style.font_weight = 'bold'\n",
    "input_level_dropdown.style.description_width = 'initial'\n",
    "input_level_dropdown.style.description_color = 'black'\n",
    "input_level_dropdown.style.font_weight = 'bold'\n",
    "water_supply_2010_dropdown.style.description_width = 'initial'\n",
    "water_supply_2010_dropdown.style.description_color = 'black'\n",
    "water_supply_2010_dropdown.style.font_weight = 'bold'\n",
    "\n",
    "# Display the widgets in two rows\n",
    "display(widgets.HBox([climate_model_dropdown, water_supply_dropdown]))\n",
    "display(widgets.HBox([input_level_dropdown, water_supply_2010_dropdown, confirm_button]))\n"
   ]
  },
  {
   "cell_type": "markdown",
   "id": "8d01c4fe",
   "metadata": {},
   "source": [
    "### Simply run the following cells and then click on Run. Wait for the code to run and the graphs to appear, then select the RCP and Time-period for whcih you want to download the data. Click Download and the xarrays generated will be downloaded as NetCDF4 files. "
   ]
  },
  {
   "cell_type": "markdown",
   "id": "235aa498",
   "metadata": {},
   "source": [
    "###  Cropland data"
   ]
  },
  {
   "cell_type": "code",
   "execution_count": 8,
   "id": "571e72dd",
   "metadata": {},
   "outputs": [
    {
     "data": {
      "application/vnd.plotly.v1+json": {
       "config": {
        "plotlyServerURL": "https://plot.ly"
       },
       "data": [
        {
         "marker": {
          "color": "#000000"
         },
         "name": "2000",
         "type": "bar",
         "x": [
          "2000"
         ],
         "y": [
          140156.33015868627
         ]
        },
        {
         "marker": {
          "color": "#808080"
         },
         "name": "2010",
         "type": "bar",
         "x": [
          "2010"
         ],
         "y": [
          172945.82093831486
         ]
        },
        {
         "marker": {
          "color": "#4285F4"
         },
         "name": "RCP2.6",
         "type": "bar",
         "x": [
          "2011-2040",
          "2041-2070",
          "2071-2100"
         ],
         "y": [
          639862.0213821059,
          644587.4466760135,
          660893.9682318533
         ]
        },
        {
         "marker": {
          "color": "#DB4437"
         },
         "name": "RCP4.5",
         "type": "bar",
         "x": [
          "2011-2040",
          "2041-2070",
          "2071-2100"
         ],
         "y": [
          626866.0012792369,
          613564.5825443158,
          518748.80235807894
         ]
        },
        {
         "marker": {
          "color": "#F4B400"
         },
         "name": "RCP6.0",
         "type": "bar",
         "x": [
          "2011-2040",
          "2041-2070",
          "2071-2100"
         ],
         "y": [
          653310.4945998902,
          628873.2834023107,
          584571.3866509297
         ]
        },
        {
         "marker": {
          "color": "#0F9D58"
         },
         "name": "RCP8.5",
         "type": "bar",
         "x": [
          "2011-2040",
          "2041-2070",
          "2071-2100"
         ],
         "y": [
          620175.6153789061,
          533599.0479043714,
          512706.9799336922
         ]
        }
       ],
       "layout": {
        "barmode": "group",
        "template": {
         "data": {
          "bar": [
           {
            "error_x": {
             "color": "#2a3f5f"
            },
            "error_y": {
             "color": "#2a3f5f"
            },
            "marker": {
             "line": {
              "color": "#E5ECF6",
              "width": 0.5
             },
             "pattern": {
              "fillmode": "overlay",
              "size": 10,
              "solidity": 0.2
             }
            },
            "type": "bar"
           }
          ],
          "barpolar": [
           {
            "marker": {
             "line": {
              "color": "#E5ECF6",
              "width": 0.5
             },
             "pattern": {
              "fillmode": "overlay",
              "size": 10,
              "solidity": 0.2
             }
            },
            "type": "barpolar"
           }
          ],
          "carpet": [
           {
            "aaxis": {
             "endlinecolor": "#2a3f5f",
             "gridcolor": "white",
             "linecolor": "white",
             "minorgridcolor": "white",
             "startlinecolor": "#2a3f5f"
            },
            "baxis": {
             "endlinecolor": "#2a3f5f",
             "gridcolor": "white",
             "linecolor": "white",
             "minorgridcolor": "white",
             "startlinecolor": "#2a3f5f"
            },
            "type": "carpet"
           }
          ],
          "choropleth": [
           {
            "colorbar": {
             "outlinewidth": 0,
             "ticks": ""
            },
            "type": "choropleth"
           }
          ],
          "contour": [
           {
            "colorbar": {
             "outlinewidth": 0,
             "ticks": ""
            },
            "colorscale": [
             [
              0,
              "#0d0887"
             ],
             [
              0.1111111111111111,
              "#46039f"
             ],
             [
              0.2222222222222222,
              "#7201a8"
             ],
             [
              0.3333333333333333,
              "#9c179e"
             ],
             [
              0.4444444444444444,
              "#bd3786"
             ],
             [
              0.5555555555555556,
              "#d8576b"
             ],
             [
              0.6666666666666666,
              "#ed7953"
             ],
             [
              0.7777777777777778,
              "#fb9f3a"
             ],
             [
              0.8888888888888888,
              "#fdca26"
             ],
             [
              1,
              "#f0f921"
             ]
            ],
            "type": "contour"
           }
          ],
          "contourcarpet": [
           {
            "colorbar": {
             "outlinewidth": 0,
             "ticks": ""
            },
            "type": "contourcarpet"
           }
          ],
          "heatmap": [
           {
            "colorbar": {
             "outlinewidth": 0,
             "ticks": ""
            },
            "colorscale": [
             [
              0,
              "#0d0887"
             ],
             [
              0.1111111111111111,
              "#46039f"
             ],
             [
              0.2222222222222222,
              "#7201a8"
             ],
             [
              0.3333333333333333,
              "#9c179e"
             ],
             [
              0.4444444444444444,
              "#bd3786"
             ],
             [
              0.5555555555555556,
              "#d8576b"
             ],
             [
              0.6666666666666666,
              "#ed7953"
             ],
             [
              0.7777777777777778,
              "#fb9f3a"
             ],
             [
              0.8888888888888888,
              "#fdca26"
             ],
             [
              1,
              "#f0f921"
             ]
            ],
            "type": "heatmap"
           }
          ],
          "heatmapgl": [
           {
            "colorbar": {
             "outlinewidth": 0,
             "ticks": ""
            },
            "colorscale": [
             [
              0,
              "#0d0887"
             ],
             [
              0.1111111111111111,
              "#46039f"
             ],
             [
              0.2222222222222222,
              "#7201a8"
             ],
             [
              0.3333333333333333,
              "#9c179e"
             ],
             [
              0.4444444444444444,
              "#bd3786"
             ],
             [
              0.5555555555555556,
              "#d8576b"
             ],
             [
              0.6666666666666666,
              "#ed7953"
             ],
             [
              0.7777777777777778,
              "#fb9f3a"
             ],
             [
              0.8888888888888888,
              "#fdca26"
             ],
             [
              1,
              "#f0f921"
             ]
            ],
            "type": "heatmapgl"
           }
          ],
          "histogram": [
           {
            "marker": {
             "pattern": {
              "fillmode": "overlay",
              "size": 10,
              "solidity": 0.2
             }
            },
            "type": "histogram"
           }
          ],
          "histogram2d": [
           {
            "colorbar": {
             "outlinewidth": 0,
             "ticks": ""
            },
            "colorscale": [
             [
              0,
              "#0d0887"
             ],
             [
              0.1111111111111111,
              "#46039f"
             ],
             [
              0.2222222222222222,
              "#7201a8"
             ],
             [
              0.3333333333333333,
              "#9c179e"
             ],
             [
              0.4444444444444444,
              "#bd3786"
             ],
             [
              0.5555555555555556,
              "#d8576b"
             ],
             [
              0.6666666666666666,
              "#ed7953"
             ],
             [
              0.7777777777777778,
              "#fb9f3a"
             ],
             [
              0.8888888888888888,
              "#fdca26"
             ],
             [
              1,
              "#f0f921"
             ]
            ],
            "type": "histogram2d"
           }
          ],
          "histogram2dcontour": [
           {
            "colorbar": {
             "outlinewidth": 0,
             "ticks": ""
            },
            "colorscale": [
             [
              0,
              "#0d0887"
             ],
             [
              0.1111111111111111,
              "#46039f"
             ],
             [
              0.2222222222222222,
              "#7201a8"
             ],
             [
              0.3333333333333333,
              "#9c179e"
             ],
             [
              0.4444444444444444,
              "#bd3786"
             ],
             [
              0.5555555555555556,
              "#d8576b"
             ],
             [
              0.6666666666666666,
              "#ed7953"
             ],
             [
              0.7777777777777778,
              "#fb9f3a"
             ],
             [
              0.8888888888888888,
              "#fdca26"
             ],
             [
              1,
              "#f0f921"
             ]
            ],
            "type": "histogram2dcontour"
           }
          ],
          "mesh3d": [
           {
            "colorbar": {
             "outlinewidth": 0,
             "ticks": ""
            },
            "type": "mesh3d"
           }
          ],
          "parcoords": [
           {
            "line": {
             "colorbar": {
              "outlinewidth": 0,
              "ticks": ""
             }
            },
            "type": "parcoords"
           }
          ],
          "pie": [
           {
            "automargin": true,
            "type": "pie"
           }
          ],
          "scatter": [
           {
            "fillpattern": {
             "fillmode": "overlay",
             "size": 10,
             "solidity": 0.2
            },
            "type": "scatter"
           }
          ],
          "scatter3d": [
           {
            "line": {
             "colorbar": {
              "outlinewidth": 0,
              "ticks": ""
             }
            },
            "marker": {
             "colorbar": {
              "outlinewidth": 0,
              "ticks": ""
             }
            },
            "type": "scatter3d"
           }
          ],
          "scattercarpet": [
           {
            "marker": {
             "colorbar": {
              "outlinewidth": 0,
              "ticks": ""
             }
            },
            "type": "scattercarpet"
           }
          ],
          "scattergeo": [
           {
            "marker": {
             "colorbar": {
              "outlinewidth": 0,
              "ticks": ""
             }
            },
            "type": "scattergeo"
           }
          ],
          "scattergl": [
           {
            "marker": {
             "colorbar": {
              "outlinewidth": 0,
              "ticks": ""
             }
            },
            "type": "scattergl"
           }
          ],
          "scattermapbox": [
           {
            "marker": {
             "colorbar": {
              "outlinewidth": 0,
              "ticks": ""
             }
            },
            "type": "scattermapbox"
           }
          ],
          "scatterpolar": [
           {
            "marker": {
             "colorbar": {
              "outlinewidth": 0,
              "ticks": ""
             }
            },
            "type": "scatterpolar"
           }
          ],
          "scatterpolargl": [
           {
            "marker": {
             "colorbar": {
              "outlinewidth": 0,
              "ticks": ""
             }
            },
            "type": "scatterpolargl"
           }
          ],
          "scatterternary": [
           {
            "marker": {
             "colorbar": {
              "outlinewidth": 0,
              "ticks": ""
             }
            },
            "type": "scatterternary"
           }
          ],
          "surface": [
           {
            "colorbar": {
             "outlinewidth": 0,
             "ticks": ""
            },
            "colorscale": [
             [
              0,
              "#0d0887"
             ],
             [
              0.1111111111111111,
              "#46039f"
             ],
             [
              0.2222222222222222,
              "#7201a8"
             ],
             [
              0.3333333333333333,
              "#9c179e"
             ],
             [
              0.4444444444444444,
              "#bd3786"
             ],
             [
              0.5555555555555556,
              "#d8576b"
             ],
             [
              0.6666666666666666,
              "#ed7953"
             ],
             [
              0.7777777777777778,
              "#fb9f3a"
             ],
             [
              0.8888888888888888,
              "#fdca26"
             ],
             [
              1,
              "#f0f921"
             ]
            ],
            "type": "surface"
           }
          ],
          "table": [
           {
            "cells": {
             "fill": {
              "color": "#EBF0F8"
             },
             "line": {
              "color": "white"
             }
            },
            "header": {
             "fill": {
              "color": "#C8D4E3"
             },
             "line": {
              "color": "white"
             }
            },
            "type": "table"
           }
          ]
         },
         "layout": {
          "annotationdefaults": {
           "arrowcolor": "#2a3f5f",
           "arrowhead": 0,
           "arrowwidth": 1
          },
          "autotypenumbers": "strict",
          "coloraxis": {
           "colorbar": {
            "outlinewidth": 0,
            "ticks": ""
           }
          },
          "colorscale": {
           "diverging": [
            [
             0,
             "#8e0152"
            ],
            [
             0.1,
             "#c51b7d"
            ],
            [
             0.2,
             "#de77ae"
            ],
            [
             0.3,
             "#f1b6da"
            ],
            [
             0.4,
             "#fde0ef"
            ],
            [
             0.5,
             "#f7f7f7"
            ],
            [
             0.6,
             "#e6f5d0"
            ],
            [
             0.7,
             "#b8e186"
            ],
            [
             0.8,
             "#7fbc41"
            ],
            [
             0.9,
             "#4d9221"
            ],
            [
             1,
             "#276419"
            ]
           ],
           "sequential": [
            [
             0,
             "#0d0887"
            ],
            [
             0.1111111111111111,
             "#46039f"
            ],
            [
             0.2222222222222222,
             "#7201a8"
            ],
            [
             0.3333333333333333,
             "#9c179e"
            ],
            [
             0.4444444444444444,
             "#bd3786"
            ],
            [
             0.5555555555555556,
             "#d8576b"
            ],
            [
             0.6666666666666666,
             "#ed7953"
            ],
            [
             0.7777777777777778,
             "#fb9f3a"
            ],
            [
             0.8888888888888888,
             "#fdca26"
            ],
            [
             1,
             "#f0f921"
            ]
           ],
           "sequentialminus": [
            [
             0,
             "#0d0887"
            ],
            [
             0.1111111111111111,
             "#46039f"
            ],
            [
             0.2222222222222222,
             "#7201a8"
            ],
            [
             0.3333333333333333,
             "#9c179e"
            ],
            [
             0.4444444444444444,
             "#bd3786"
            ],
            [
             0.5555555555555556,
             "#d8576b"
            ],
            [
             0.6666666666666666,
             "#ed7953"
            ],
            [
             0.7777777777777778,
             "#fb9f3a"
            ],
            [
             0.8888888888888888,
             "#fdca26"
            ],
            [
             1,
             "#f0f921"
            ]
           ]
          },
          "colorway": [
           "#636efa",
           "#EF553B",
           "#00cc96",
           "#ab63fa",
           "#FFA15A",
           "#19d3f3",
           "#FF6692",
           "#B6E880",
           "#FF97FF",
           "#FECB52"
          ],
          "font": {
           "color": "#2a3f5f"
          },
          "geo": {
           "bgcolor": "white",
           "lakecolor": "white",
           "landcolor": "#E5ECF6",
           "showlakes": true,
           "showland": true,
           "subunitcolor": "white"
          },
          "hoverlabel": {
           "align": "left"
          },
          "hovermode": "closest",
          "mapbox": {
           "style": "light"
          },
          "paper_bgcolor": "white",
          "plot_bgcolor": "#E5ECF6",
          "polar": {
           "angularaxis": {
            "gridcolor": "white",
            "linecolor": "white",
            "ticks": ""
           },
           "bgcolor": "#E5ECF6",
           "radialaxis": {
            "gridcolor": "white",
            "linecolor": "white",
            "ticks": ""
           }
          },
          "scene": {
           "xaxis": {
            "backgroundcolor": "#E5ECF6",
            "gridcolor": "white",
            "gridwidth": 2,
            "linecolor": "white",
            "showbackground": true,
            "ticks": "",
            "zerolinecolor": "white"
           },
           "yaxis": {
            "backgroundcolor": "#E5ECF6",
            "gridcolor": "white",
            "gridwidth": 2,
            "linecolor": "white",
            "showbackground": true,
            "ticks": "",
            "zerolinecolor": "white"
           },
           "zaxis": {
            "backgroundcolor": "#E5ECF6",
            "gridcolor": "white",
            "gridwidth": 2,
            "linecolor": "white",
            "showbackground": true,
            "ticks": "",
            "zerolinecolor": "white"
           }
          },
          "shapedefaults": {
           "line": {
            "color": "#2a3f5f"
           }
          },
          "ternary": {
           "aaxis": {
            "gridcolor": "white",
            "linecolor": "white",
            "ticks": ""
           },
           "baxis": {
            "gridcolor": "white",
            "linecolor": "white",
            "ticks": ""
           },
           "bgcolor": "#E5ECF6",
           "caxis": {
            "gridcolor": "white",
            "linecolor": "white",
            "ticks": ""
           }
          },
          "title": {
           "x": 0.05
          },
          "xaxis": {
           "automargin": true,
           "gridcolor": "white",
           "linecolor": "white",
           "ticks": "",
           "title": {
            "standoff": 15
           },
           "zerolinecolor": "white",
           "zerolinewidth": 2
          },
          "yaxis": {
           "automargin": true,
           "gridcolor": "white",
           "linecolor": "white",
           "ticks": "",
           "title": {
            "standoff": 15
           },
           "zerolinecolor": "white",
           "zerolinewidth": 2
          }
         }
        },
        "title": {
         "text": "Cropland Biomass Energy Potential from different RCPs"
        },
        "xaxis": {
         "title": {
          "text": "Years"
         }
        },
        "yaxis": {
         "title": {
          "text": "Biomass Energy Potential from Cropland Land <br> in PetaJoules"
         }
        }
       }
      }
     },
     "metadata": {},
     "output_type": "display_data"
    },
    {
     "data": {
      "application/vnd.jupyter.widget-view+json": {
       "model_id": "30a64d05bdde44ccbc20fca3b38adcfa",
       "version_major": 2,
       "version_minor": 0
      },
      "text/plain": [
       "Dropdown(description='RCP:', options=('RCP2.6', 'RCP4.5', 'RCP6.0', 'RCP8.5'), value='RCP2.6')"
      ]
     },
     "metadata": {},
     "output_type": "display_data"
    },
    {
     "data": {
      "application/vnd.jupyter.widget-view+json": {
       "model_id": "4dbdc727b9d345208caa480d89b8db20",
       "version_major": 2,
       "version_minor": 0
      },
      "text/plain": [
       "Dropdown(description='Time Period:', options=('2011-2040', '2041-2070', '2071-2100'), value='2011-2040')"
      ]
     },
     "metadata": {},
     "output_type": "display_data"
    },
    {
     "data": {
      "application/vnd.jupyter.widget-view+json": {
       "model_id": "14bdb923d52a45a7a6f0e6fe40f5f78b",
       "version_major": 2,
       "version_minor": 0
      },
      "text/plain": [
       "Button(description='Download NetCDF4', style=ButtonStyle())"
      ]
     },
     "metadata": {},
     "output_type": "display_data"
    }
   ],
   "source": [
    "import ipywidgets as widgets\n",
    "from IPython.display import display, clear_output\n",
    "\n",
    "# Create a button to run the code\n",
    "run_button = widgets.Button(description='Run')\n",
    "\n",
    "# Create a button to download xarrays as NetCDF4\n",
    "download_nc_button = widgets.Button(description='Download NetCDF4')\n",
    "\n",
    "# Create dropdown widgets for RCP and time period\n",
    "rcp_dropdown = widgets.Dropdown(options=['RCP2.6', 'RCP4.5', 'RCP6.0', 'RCP8.5'], value='RCP2.6', description='RCP:')\n",
    "time_period_dropdown = widgets.Dropdown(options=['2011-2040', '2041-2070', '2071-2100'], value='2011-2040', description='Time Period:')\n",
    "\n",
    "# Function to run the code on button click\n",
    "def on_run_button_click(button):\n",
    "    clear_output(wait=True)  # Clear the output area before running the code\n",
    "    global fig_crop, xarrays_crop\n",
    "    fig_crop, xarrays_crop = graph_plotter_cropland(shapefile=geography, climate_model=selected_climate_model,\n",
    "                                          water_supply_future=selected_water_supply, input_level=selected_input_level)\n",
    "    \n",
    "    \n",
    "    # Display the dropdowns after the graph is loaded\n",
    "    display(rcp_dropdown)\n",
    "    display(time_period_dropdown)\n",
    "    \n",
    "    # Display the \"Download NetCDF4\" button after the graph is loaded\n",
    "    display(download_nc_button)\n",
    "\n",
    "# Attach the on_run_button_click function to the button's 'on_click' event\n",
    "run_button.on_click(on_run_button_click)\n",
    "\n",
    "# Function to download xarrays as NetCDF4 on button click\n",
    "def on_download_nc_button_click(button):\n",
    "    if xarrays_crop:\n",
    "        # Get the selected RCP and time period from the dropdowns\n",
    "        selected_rcp = rcp_dropdown.value\n",
    "        selected_time_period = time_period_dropdown.value\n",
    "\n",
    "        try:\n",
    "            # Access the selected xarray using the selected RCP and time period\n",
    "            selected_xarray = xarrays_crop[(selected_rcp, selected_time_period)]\n",
    "\n",
    "            # Save the selected xarray as a NetCDF4 file\n",
    "            selected_xarray.to_netcdf(f'{selected_country}_{selected_province}_{selected_rcp}_{selected_time_period}_cropland_data.nc')\n",
    "            print('NetCDF4 file downloaded successfully.')\n",
    "        except Exception as e:\n",
    "            print(f'Error creating dataset: {e}')\n",
    "    else:\n",
    "        print('No xarrays available. Please run the code first.')\n",
    "\n",
    "# Attach the on_download_nc_button_click function to the button's 'on_click' event\n",
    "download_nc_button.on_click(on_download_nc_button_click)\n",
    "\n",
    "# Display the \"Run\" button initially\n",
    "display(run_button)\n"
   ]
  },
  {
   "cell_type": "markdown",
   "id": "fc75c79b",
   "metadata": {},
   "source": [
    "### Marginal Land Data"
   ]
  },
  {
   "cell_type": "code",
   "execution_count": 9,
   "id": "cf903e07",
   "metadata": {},
   "outputs": [
    {
     "data": {
      "application/vnd.plotly.v1+json": {
       "config": {
        "plotlyServerURL": "https://plot.ly"
       },
       "data": [
        {
         "name": "RCP2.6",
         "type": "bar",
         "x": [
          "2011-2040",
          "2041-2070",
          "2071-2100"
         ],
         "y": [
          11522093.501433436,
          11713258.57339211,
          11727892.438434673
         ]
        },
        {
         "name": "RCP4.5",
         "type": "bar",
         "x": [
          "2011-2040",
          "2041-2070",
          "2071-2100"
         ],
         "y": [
          11389624.499152187,
          11054332.366333373,
          10416904.249154862
         ]
        },
        {
         "name": "RCP6.0",
         "type": "bar",
         "x": [
          "2011-2040",
          "2041-2070",
          "2071-2100"
         ],
         "y": [
          11701856.423584308,
          11134170.839990681,
          10829693.491487011
         ]
        },
        {
         "name": "RCP8.5",
         "type": "bar",
         "x": [
          "2011-2040",
          "2041-2070",
          "2071-2100"
         ],
         "y": [
          11068914.337450542,
          10555641.676496822,
          10565049.366132189
         ]
        }
       ],
       "layout": {
        "barmode": "group",
        "template": {
         "data": {
          "bar": [
           {
            "error_x": {
             "color": "#2a3f5f"
            },
            "error_y": {
             "color": "#2a3f5f"
            },
            "marker": {
             "line": {
              "color": "#E5ECF6",
              "width": 0.5
             },
             "pattern": {
              "fillmode": "overlay",
              "size": 10,
              "solidity": 0.2
             }
            },
            "type": "bar"
           }
          ],
          "barpolar": [
           {
            "marker": {
             "line": {
              "color": "#E5ECF6",
              "width": 0.5
             },
             "pattern": {
              "fillmode": "overlay",
              "size": 10,
              "solidity": 0.2
             }
            },
            "type": "barpolar"
           }
          ],
          "carpet": [
           {
            "aaxis": {
             "endlinecolor": "#2a3f5f",
             "gridcolor": "white",
             "linecolor": "white",
             "minorgridcolor": "white",
             "startlinecolor": "#2a3f5f"
            },
            "baxis": {
             "endlinecolor": "#2a3f5f",
             "gridcolor": "white",
             "linecolor": "white",
             "minorgridcolor": "white",
             "startlinecolor": "#2a3f5f"
            },
            "type": "carpet"
           }
          ],
          "choropleth": [
           {
            "colorbar": {
             "outlinewidth": 0,
             "ticks": ""
            },
            "type": "choropleth"
           }
          ],
          "contour": [
           {
            "colorbar": {
             "outlinewidth": 0,
             "ticks": ""
            },
            "colorscale": [
             [
              0,
              "#0d0887"
             ],
             [
              0.1111111111111111,
              "#46039f"
             ],
             [
              0.2222222222222222,
              "#7201a8"
             ],
             [
              0.3333333333333333,
              "#9c179e"
             ],
             [
              0.4444444444444444,
              "#bd3786"
             ],
             [
              0.5555555555555556,
              "#d8576b"
             ],
             [
              0.6666666666666666,
              "#ed7953"
             ],
             [
              0.7777777777777778,
              "#fb9f3a"
             ],
             [
              0.8888888888888888,
              "#fdca26"
             ],
             [
              1,
              "#f0f921"
             ]
            ],
            "type": "contour"
           }
          ],
          "contourcarpet": [
           {
            "colorbar": {
             "outlinewidth": 0,
             "ticks": ""
            },
            "type": "contourcarpet"
           }
          ],
          "heatmap": [
           {
            "colorbar": {
             "outlinewidth": 0,
             "ticks": ""
            },
            "colorscale": [
             [
              0,
              "#0d0887"
             ],
             [
              0.1111111111111111,
              "#46039f"
             ],
             [
              0.2222222222222222,
              "#7201a8"
             ],
             [
              0.3333333333333333,
              "#9c179e"
             ],
             [
              0.4444444444444444,
              "#bd3786"
             ],
             [
              0.5555555555555556,
              "#d8576b"
             ],
             [
              0.6666666666666666,
              "#ed7953"
             ],
             [
              0.7777777777777778,
              "#fb9f3a"
             ],
             [
              0.8888888888888888,
              "#fdca26"
             ],
             [
              1,
              "#f0f921"
             ]
            ],
            "type": "heatmap"
           }
          ],
          "heatmapgl": [
           {
            "colorbar": {
             "outlinewidth": 0,
             "ticks": ""
            },
            "colorscale": [
             [
              0,
              "#0d0887"
             ],
             [
              0.1111111111111111,
              "#46039f"
             ],
             [
              0.2222222222222222,
              "#7201a8"
             ],
             [
              0.3333333333333333,
              "#9c179e"
             ],
             [
              0.4444444444444444,
              "#bd3786"
             ],
             [
              0.5555555555555556,
              "#d8576b"
             ],
             [
              0.6666666666666666,
              "#ed7953"
             ],
             [
              0.7777777777777778,
              "#fb9f3a"
             ],
             [
              0.8888888888888888,
              "#fdca26"
             ],
             [
              1,
              "#f0f921"
             ]
            ],
            "type": "heatmapgl"
           }
          ],
          "histogram": [
           {
            "marker": {
             "pattern": {
              "fillmode": "overlay",
              "size": 10,
              "solidity": 0.2
             }
            },
            "type": "histogram"
           }
          ],
          "histogram2d": [
           {
            "colorbar": {
             "outlinewidth": 0,
             "ticks": ""
            },
            "colorscale": [
             [
              0,
              "#0d0887"
             ],
             [
              0.1111111111111111,
              "#46039f"
             ],
             [
              0.2222222222222222,
              "#7201a8"
             ],
             [
              0.3333333333333333,
              "#9c179e"
             ],
             [
              0.4444444444444444,
              "#bd3786"
             ],
             [
              0.5555555555555556,
              "#d8576b"
             ],
             [
              0.6666666666666666,
              "#ed7953"
             ],
             [
              0.7777777777777778,
              "#fb9f3a"
             ],
             [
              0.8888888888888888,
              "#fdca26"
             ],
             [
              1,
              "#f0f921"
             ]
            ],
            "type": "histogram2d"
           }
          ],
          "histogram2dcontour": [
           {
            "colorbar": {
             "outlinewidth": 0,
             "ticks": ""
            },
            "colorscale": [
             [
              0,
              "#0d0887"
             ],
             [
              0.1111111111111111,
              "#46039f"
             ],
             [
              0.2222222222222222,
              "#7201a8"
             ],
             [
              0.3333333333333333,
              "#9c179e"
             ],
             [
              0.4444444444444444,
              "#bd3786"
             ],
             [
              0.5555555555555556,
              "#d8576b"
             ],
             [
              0.6666666666666666,
              "#ed7953"
             ],
             [
              0.7777777777777778,
              "#fb9f3a"
             ],
             [
              0.8888888888888888,
              "#fdca26"
             ],
             [
              1,
              "#f0f921"
             ]
            ],
            "type": "histogram2dcontour"
           }
          ],
          "mesh3d": [
           {
            "colorbar": {
             "outlinewidth": 0,
             "ticks": ""
            },
            "type": "mesh3d"
           }
          ],
          "parcoords": [
           {
            "line": {
             "colorbar": {
              "outlinewidth": 0,
              "ticks": ""
             }
            },
            "type": "parcoords"
           }
          ],
          "pie": [
           {
            "automargin": true,
            "type": "pie"
           }
          ],
          "scatter": [
           {
            "fillpattern": {
             "fillmode": "overlay",
             "size": 10,
             "solidity": 0.2
            },
            "type": "scatter"
           }
          ],
          "scatter3d": [
           {
            "line": {
             "colorbar": {
              "outlinewidth": 0,
              "ticks": ""
             }
            },
            "marker": {
             "colorbar": {
              "outlinewidth": 0,
              "ticks": ""
             }
            },
            "type": "scatter3d"
           }
          ],
          "scattercarpet": [
           {
            "marker": {
             "colorbar": {
              "outlinewidth": 0,
              "ticks": ""
             }
            },
            "type": "scattercarpet"
           }
          ],
          "scattergeo": [
           {
            "marker": {
             "colorbar": {
              "outlinewidth": 0,
              "ticks": ""
             }
            },
            "type": "scattergeo"
           }
          ],
          "scattergl": [
           {
            "marker": {
             "colorbar": {
              "outlinewidth": 0,
              "ticks": ""
             }
            },
            "type": "scattergl"
           }
          ],
          "scattermapbox": [
           {
            "marker": {
             "colorbar": {
              "outlinewidth": 0,
              "ticks": ""
             }
            },
            "type": "scattermapbox"
           }
          ],
          "scatterpolar": [
           {
            "marker": {
             "colorbar": {
              "outlinewidth": 0,
              "ticks": ""
             }
            },
            "type": "scatterpolar"
           }
          ],
          "scatterpolargl": [
           {
            "marker": {
             "colorbar": {
              "outlinewidth": 0,
              "ticks": ""
             }
            },
            "type": "scatterpolargl"
           }
          ],
          "scatterternary": [
           {
            "marker": {
             "colorbar": {
              "outlinewidth": 0,
              "ticks": ""
             }
            },
            "type": "scatterternary"
           }
          ],
          "surface": [
           {
            "colorbar": {
             "outlinewidth": 0,
             "ticks": ""
            },
            "colorscale": [
             [
              0,
              "#0d0887"
             ],
             [
              0.1111111111111111,
              "#46039f"
             ],
             [
              0.2222222222222222,
              "#7201a8"
             ],
             [
              0.3333333333333333,
              "#9c179e"
             ],
             [
              0.4444444444444444,
              "#bd3786"
             ],
             [
              0.5555555555555556,
              "#d8576b"
             ],
             [
              0.6666666666666666,
              "#ed7953"
             ],
             [
              0.7777777777777778,
              "#fb9f3a"
             ],
             [
              0.8888888888888888,
              "#fdca26"
             ],
             [
              1,
              "#f0f921"
             ]
            ],
            "type": "surface"
           }
          ],
          "table": [
           {
            "cells": {
             "fill": {
              "color": "#EBF0F8"
             },
             "line": {
              "color": "white"
             }
            },
            "header": {
             "fill": {
              "color": "#C8D4E3"
             },
             "line": {
              "color": "white"
             }
            },
            "type": "table"
           }
          ]
         },
         "layout": {
          "annotationdefaults": {
           "arrowcolor": "#2a3f5f",
           "arrowhead": 0,
           "arrowwidth": 1
          },
          "autotypenumbers": "strict",
          "coloraxis": {
           "colorbar": {
            "outlinewidth": 0,
            "ticks": ""
           }
          },
          "colorscale": {
           "diverging": [
            [
             0,
             "#8e0152"
            ],
            [
             0.1,
             "#c51b7d"
            ],
            [
             0.2,
             "#de77ae"
            ],
            [
             0.3,
             "#f1b6da"
            ],
            [
             0.4,
             "#fde0ef"
            ],
            [
             0.5,
             "#f7f7f7"
            ],
            [
             0.6,
             "#e6f5d0"
            ],
            [
             0.7,
             "#b8e186"
            ],
            [
             0.8,
             "#7fbc41"
            ],
            [
             0.9,
             "#4d9221"
            ],
            [
             1,
             "#276419"
            ]
           ],
           "sequential": [
            [
             0,
             "#0d0887"
            ],
            [
             0.1111111111111111,
             "#46039f"
            ],
            [
             0.2222222222222222,
             "#7201a8"
            ],
            [
             0.3333333333333333,
             "#9c179e"
            ],
            [
             0.4444444444444444,
             "#bd3786"
            ],
            [
             0.5555555555555556,
             "#d8576b"
            ],
            [
             0.6666666666666666,
             "#ed7953"
            ],
            [
             0.7777777777777778,
             "#fb9f3a"
            ],
            [
             0.8888888888888888,
             "#fdca26"
            ],
            [
             1,
             "#f0f921"
            ]
           ],
           "sequentialminus": [
            [
             0,
             "#0d0887"
            ],
            [
             0.1111111111111111,
             "#46039f"
            ],
            [
             0.2222222222222222,
             "#7201a8"
            ],
            [
             0.3333333333333333,
             "#9c179e"
            ],
            [
             0.4444444444444444,
             "#bd3786"
            ],
            [
             0.5555555555555556,
             "#d8576b"
            ],
            [
             0.6666666666666666,
             "#ed7953"
            ],
            [
             0.7777777777777778,
             "#fb9f3a"
            ],
            [
             0.8888888888888888,
             "#fdca26"
            ],
            [
             1,
             "#f0f921"
            ]
           ]
          },
          "colorway": [
           "#636efa",
           "#EF553B",
           "#00cc96",
           "#ab63fa",
           "#FFA15A",
           "#19d3f3",
           "#FF6692",
           "#B6E880",
           "#FF97FF",
           "#FECB52"
          ],
          "font": {
           "color": "#2a3f5f"
          },
          "geo": {
           "bgcolor": "white",
           "lakecolor": "white",
           "landcolor": "#E5ECF6",
           "showlakes": true,
           "showland": true,
           "subunitcolor": "white"
          },
          "hoverlabel": {
           "align": "left"
          },
          "hovermode": "closest",
          "mapbox": {
           "style": "light"
          },
          "paper_bgcolor": "white",
          "plot_bgcolor": "#E5ECF6",
          "polar": {
           "angularaxis": {
            "gridcolor": "white",
            "linecolor": "white",
            "ticks": ""
           },
           "bgcolor": "#E5ECF6",
           "radialaxis": {
            "gridcolor": "white",
            "linecolor": "white",
            "ticks": ""
           }
          },
          "scene": {
           "xaxis": {
            "backgroundcolor": "#E5ECF6",
            "gridcolor": "white",
            "gridwidth": 2,
            "linecolor": "white",
            "showbackground": true,
            "ticks": "",
            "zerolinecolor": "white"
           },
           "yaxis": {
            "backgroundcolor": "#E5ECF6",
            "gridcolor": "white",
            "gridwidth": 2,
            "linecolor": "white",
            "showbackground": true,
            "ticks": "",
            "zerolinecolor": "white"
           },
           "zaxis": {
            "backgroundcolor": "#E5ECF6",
            "gridcolor": "white",
            "gridwidth": 2,
            "linecolor": "white",
            "showbackground": true,
            "ticks": "",
            "zerolinecolor": "white"
           }
          },
          "shapedefaults": {
           "line": {
            "color": "#2a3f5f"
           }
          },
          "ternary": {
           "aaxis": {
            "gridcolor": "white",
            "linecolor": "white",
            "ticks": ""
           },
           "baxis": {
            "gridcolor": "white",
            "linecolor": "white",
            "ticks": ""
           },
           "bgcolor": "#E5ECF6",
           "caxis": {
            "gridcolor": "white",
            "linecolor": "white",
            "ticks": ""
           }
          },
          "title": {
           "x": 0.05
          },
          "xaxis": {
           "automargin": true,
           "gridcolor": "white",
           "linecolor": "white",
           "ticks": "",
           "title": {
            "standoff": 15
           },
           "zerolinecolor": "white",
           "zerolinewidth": 2
          },
          "yaxis": {
           "automargin": true,
           "gridcolor": "white",
           "linecolor": "white",
           "ticks": "",
           "title": {
            "standoff": 15
           },
           "zerolinecolor": "white",
           "zerolinewidth": 2
          }
         }
        },
        "title": {
         "text": "Marginal Land Biomass Energy Potential from different RCPs in Time Periods"
        },
        "xaxis": {
         "title": {
          "text": "Time Periods"
         }
        },
        "yaxis": {
         "title": {
          "text": "Biomass Energy Potential from Marginal Land <br> in PetaJoules"
         }
        }
       }
      }
     },
     "metadata": {},
     "output_type": "display_data"
    },
    {
     "data": {
      "application/vnd.jupyter.widget-view+json": {
       "model_id": "134ecde890db43639bc6edc6c48cbee8",
       "version_major": 2,
       "version_minor": 0
      },
      "text/plain": [
       "Dropdown(description='RCP:', options=('RCP2.6', 'RCP4.5', 'RCP6.0', 'RCP8.5'), value='RCP2.6')"
      ]
     },
     "metadata": {},
     "output_type": "display_data"
    },
    {
     "data": {
      "application/vnd.jupyter.widget-view+json": {
       "model_id": "82a8093b65c543f8a4c40401b4dcca17",
       "version_major": 2,
       "version_minor": 0
      },
      "text/plain": [
       "Dropdown(description='Time Period:', options=('2011-2040', '2041-2070', '2071-2100'), value='2011-2040')"
      ]
     },
     "metadata": {},
     "output_type": "display_data"
    },
    {
     "data": {
      "application/vnd.jupyter.widget-view+json": {
       "model_id": "6ee21eda1aa142f68d9baf5a3daf7782",
       "version_major": 2,
       "version_minor": 0
      },
      "text/plain": [
       "Button(description='Download NetCDF4', style=ButtonStyle())"
      ]
     },
     "metadata": {},
     "output_type": "display_data"
    }
   ],
   "source": [
    "import ipywidgets as widgets\n",
    "from IPython.display import display, clear_output\n",
    "\n",
    "# Create a button to run the code\n",
    "run_button = widgets.Button(description='Run')\n",
    "\n",
    "# Create a button to download xarrays as NetCDF4\n",
    "download_nc_button = widgets.Button(description='Download NetCDF4')\n",
    "\n",
    "# Create dropdown widgets for RCP and time period\n",
    "rcp_dropdown = widgets.Dropdown(options=['RCP2.6', 'RCP4.5', 'RCP6.0', 'RCP8.5'], value='RCP2.6', description='RCP:')\n",
    "time_period_dropdown = widgets.Dropdown(options=['2011-2040', '2041-2070', '2071-2100'], value='2011-2040', description='Time Period:')\n",
    "\n",
    "# Function to run the code on button click\n",
    "def on_run_button_click(button):\n",
    "    clear_output(wait=True)  # Clear the output area before running the code\n",
    "    global fig_marg, xarrays_marg , final_potentials_marg\n",
    "    fig_marg, xarrays_marg , final_potentials_marg = graph_plotter_marginal(shapefile=geography, climate_model=selected_climate_model,\n",
    "                                          water_supply_future=selected_water_supply, input_level=selected_input_level)\n",
    "    \n",
    "    \n",
    "    # Display the dropdowns after the graph is loaded\n",
    "    display(rcp_dropdown)\n",
    "    display(time_period_dropdown)\n",
    "    \n",
    "    # Display the \"Download NetCDF4\" button after the graph is loaded\n",
    "    display(download_nc_button)\n",
    "\n",
    "# Attach the on_run_button_click function to the button's 'on_click' event\n",
    "run_button.on_click(on_run_button_click)\n",
    "\n",
    "# Function to download xarrays as NetCDF4 on button click\n",
    "def on_download_nc_button_click(button):\n",
    "    if xarrays_marg:\n",
    "        # Get the selected RCP and time period from the dropdowns\n",
    "        selected_rcp = rcp_dropdown.value\n",
    "        selected_time_period = time_period_dropdown.value\n",
    "\n",
    "        try:\n",
    "            # Access the selected xarray using the selected RCP and time period\n",
    "            selected_xarray = xarrays_marg[(selected_rcp, selected_time_period)]\n",
    "            selected_final_potentials = final_potentials_marg[(selected_rcp, selected_time_period)]\n",
    "            \n",
    "            # Drop the first dimension from selected_final_potentials and select the coords and dims\n",
    "            coords = {'latitude': selected_xarray['latitude'], 'longitude': selected_xarray['longitude']}\n",
    "            selected_final_potentials = selected_final_potentials[0]\n",
    "            \n",
    "           # Create a new xarray dataset with the same dimensions and coordinates\n",
    "            xarray_final_potentials= xr.DataArray(data=selected_final_potentials, dims=('y', 'x'), coords=coords , name='final_energy_potential')\n",
    "\n",
    "            # Save the selected xarray as a NetCDF4 file\n",
    "            selected_xarray.to_netcdf(f'{selected_country}_{selected_province}_{selected_rcp}_{selected_time_period}_marginal_land_data.nc')\n",
    "            \n",
    "            # Save the new xarray dataset as a NetCDF4 file\n",
    "            xarray_final_potentials.to_netcdf(f'{selected_country}_{selected_province}_{selected_rcp}_{selected_time_period}_marginal_land_final_energy_potential_data.nc', 'w')\n",
    "            \n",
    "        except Exception as e:\n",
    "            print(f'Error creating dataset: {e}')\n",
    "    else:\n",
    "        print('No xarrays available. Please run the code first.')\n",
    "\n",
    "# Attach the on_download_nc_button_click function to the button's 'on_click' event\n",
    "download_nc_button.on_click(on_download_nc_button_click)\n",
    "\n",
    "# Display the \"Run\" button initially\n",
    "display(run_button)\n"
   ]
  },
  {
   "cell_type": "markdown",
   "id": "dcc8154f",
   "metadata": {},
   "source": [
    "### Cropland , Marginal and Total Land Data"
   ]
  },
  {
   "cell_type": "code",
   "execution_count": 7,
   "id": "d3cb5754",
   "metadata": {},
   "outputs": [
    {
     "data": {
      "application/vnd.jupyter.widget-view+json": {
       "model_id": "38051c5d1e2e4320931ac1edfac9b9d7",
       "version_major": 2,
       "version_minor": 0
      },
      "text/plain": [
       "Button(description='Run All', style=ButtonStyle())"
      ]
     },
     "metadata": {},
     "output_type": "display_data"
    }
   ],
   "source": [
    "import ipywidgets as widgets\n",
    "from IPython.display import display, clear_output\n",
    "import plotly.graph_objects as go\n",
    "import numpy as np\n",
    "import xarray as xr\n",
    "\n",
    "# Create a button to run the code\n",
    "run_button_all = widgets.Button(description='Run All')\n",
    "\n",
    "# Create a button to download xarrays as NetCDF4\n",
    "download_nc_button_all = widgets.Button(description='Download NetCDF4')\n",
    "\n",
    "# Create dropdown widgets for RCP and time period\n",
    "rcp_dropdown_all = widgets.Dropdown(options=['RCP2.6', 'RCP4.5', 'RCP6.0', 'RCP8.5'], value='RCP2.6', description='RCP:')\n",
    "time_period_dropdown_all = widgets.Dropdown(options=['2011-2040', '2041-2070', '2071-2100'], value='2011-2040', description='Time Period:')\n",
    "\n",
    "# Function to run the code on button click\n",
    "def on_run_button_all_click(button):\n",
    "    clear_output(wait=True)  # Clear the output area before running the code\n",
    "    global fig_crop_all, fig_marg_all, fig_total_all, xarrays_marg_all, xarrays_crop_all, final_potentials_marg_all, arrays_total_all\n",
    "    fig_crop_all, fig_marg_all, fig_total_all, xarrays_marg_all, xarrays_crop_all, final_potentials_marg_all, arrays_total_all = graph_plotter_all(\n",
    "        shapefile=geography, climate_model=selected_climate_model,\n",
    "        water_supply_future=selected_water_supply, input_level=selected_input_level, water_supply_2010=selected_water_supply_2010\n",
    "    )\n",
    "\n",
    "    # Display the dropdowns after the graphs are loaded\n",
    "    display(rcp_dropdown_all)\n",
    "    display(time_period_dropdown_all)\n",
    "\n",
    "    # Display the \"Download NetCDF4\" button after the graphs are loaded\n",
    "    display(download_nc_button_all)\n",
    "\n",
    "# Attach the on_run_button_all_click function to the button's 'on_click' event\n",
    "run_button_all.on_click(on_run_button_all_click)\n",
    "\n",
    "# Function to download xarrays as NetCDF4 on button click\n",
    "def on_download_nc_button_all_click(button):\n",
    "    if xarrays_crop_all and xarrays_marg_all and arrays_total_all: # and final_potentials_marg_all:\n",
    "        # Get the selected RCP and time period from the dropdowns\n",
    "        selected_rcp = rcp_dropdown_all.value\n",
    "        selected_time_period = time_period_dropdown_all.value\n",
    "\n",
    "        try:\n",
    "            # Choose the xarray based on the selected RCP and time period\n",
    "            selected_xarray_crop = xarrays_crop_all.get((selected_rcp, selected_time_period))\n",
    "            selected_xarray_marg = xarrays_marg_all.get((selected_rcp, selected_time_period))\n",
    "            selected_array_total = arrays_total_all.get((selected_rcp, selected_time_period))\n",
    "            selected_final_potentials_marg = final_potentials_marg_all.get(((selected_rcp, selected_time_period)))\n",
    "\n",
    "            if selected_xarray_crop is not None:\n",
    "                selected_xarray_crop.to_netcdf(f'{selected_country}_{selected_province}_{selected_rcp}_{selected_time_period}_cropland.nc')\n",
    "                print('NetCDF4 file for cropland downloaded successfully.')\n",
    "            if selected_xarray_marg is not None:\n",
    "                selected_xarray_marg.to_netcdf(f'{selected_country}_{selected_province}_{selected_rcp}_{selected_time_period}_marginal.nc')\n",
    "                print('NetCDF4 file for marginal land downloaded successfully.')\n",
    "                \n",
    "            if selected_final_potentials_marg is not None: \n",
    "                # Drop the first dimension from selected_final_potentials and select the coords and dims\n",
    "                coords = {'latitude': selected_xarray_crop['latitude'], 'longitude': selected_xarray_crop['longitude']}\n",
    "                selected_final_potentials_marg = selected_final_potentials_marg[0]\n",
    "            \n",
    "               # Create a new xarray dataset with the same dimensions and coordinates\n",
    "                xarray_final_potentials_marg= xr.DataArray(data=selected_final_potentials_marg, dims=('y', 'x'), coords=coords , name='final_energy_potential_marg')\n",
    "                xarray_final_potentials_marg.to_netcdf(f'{selected_country}_{selected_province}_{selected_rcp}_{selected_time_period}_marginal_land_final_energy_potential_data.nc', 'w')\n",
    "                \n",
    "            if selected_array_total is not None:\n",
    "                # Drop the first dimension from selected_final_potentials and select the coords and dims\n",
    "                coords = {'latitude': selected_xarray_crop['latitude'], 'longitude': selected_xarray_crop['longitude']}\n",
    "                selected_array_total = selected_array_total[0] if selected_array_total.ndim == 3 else selected_array_total\n",
    "            \n",
    "               # Create a new xarray dataset with the same dimensions and coordinates\n",
    "                xarray_total= xr.DataArray(data=selected_array_total, dims=('y', 'x'), coords=coords , name='total_energy_potential')\n",
    "                xarray_total.to_netcdf(f'{selected_country}_{selected_province}_{selected_rcp}_{selected_time_period}_marginal_land_final_energy_potential_data.nc', 'w')\n",
    "                print('NetCDF4 file for total land downloaded successfully.')\n",
    "                \n",
    "        except Exception as e:\n",
    "            print(f'Error creating dataset: {e}')\n",
    "    else:\n",
    "        print('No xarrays available. Please run the code first.')\n",
    "\n",
    "# Attach the on_download_nc_button_all_click function to the button's 'on_click' event\n",
    "download_nc_button_all.on_click(on_download_nc_button_all_click)\n",
    "\n",
    "# Display the \"Run All\" button initially\n",
    "display(run_button_all)"
   ]
  },
  {
   "cell_type": "code",
   "execution_count": null,
   "id": "41702864",
   "metadata": {},
   "outputs": [],
   "source": []
  }
 ],
 "metadata": {
  "kernelspec": {
   "display_name": "geo_env",
   "language": "python",
   "name": "python3"
  },
  "language_info": {
   "codemirror_mode": {
    "name": "ipython",
    "version": 3
   },
   "file_extension": ".py",
   "mimetype": "text/x-python",
   "name": "python",
   "nbconvert_exporter": "python",
   "pygments_lexer": "ipython3",
   "version": "3.11.4"
  }
 },
 "nbformat": 4,
 "nbformat_minor": 5
}
